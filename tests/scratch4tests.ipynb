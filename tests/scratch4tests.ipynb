{
 "cells": [
  {
   "cell_type": "code",
   "execution_count": 1,
   "metadata": {},
   "outputs": [],
   "source": [
    "import sys, os\n",
    "import numpy as np\n",
    "import json\n",
    "import pickle\n",
    "from typing import Any, Union, Dict, List\n",
    "import humpack\n",
    "from humpack import tdict, tlist, tset\n",
    "from humpack import Array\n",
    "from humpack import secure as scr\n",
    "from humpack import pack, unpack, pack_data, unpack_data, json_pack, json_unpack\n",
    "from _util_test import get_tdict"
   ]
  },
  {
   "cell_type": "code",
   "execution_count": null,
   "metadata": {},
   "outputs": [],
   "source": []
  },
  {
   "cell_type": "code",
   "execution_count": 2,
   "metadata": {},
   "outputs": [],
   "source": [
    "\n",
    "x = Array(np.random.randn(4).astype(object))\n",
    "\n",
    "x[0] = get_tdict()\n",
    "x[1] = 0\n",
    "\n",
    "s = json_pack(x)\n",
    "\n",
    "assert x[1] == 0\n"
   ]
  },
  {
   "cell_type": "code",
   "execution_count": 3,
   "metadata": {},
   "outputs": [
    {
     "data": {
      "text/plain": [
       "'object'"
      ]
     },
     "execution_count": 3,
     "metadata": {},
     "output_type": "execute_result"
    }
   ],
   "source": [
    "x.dtype.name"
   ]
  },
  {
   "cell_type": "code",
   "execution_count": 4,
   "metadata": {},
   "outputs": [],
   "source": [
    "x.begin()\n",
    "\n",
    "x[0].arr = x\n",
    "x[1] = 10\n",
    "\n",
    "assert 'arr' in x[0]\n",
    "assert len(x[0].arr) == len(x)\n",
    "assert x[1] == 10\n",
    "\n",
    "assert repr(x) == repr(json_unpack(json_pack(x)))\n"
   ]
  },
  {
   "cell_type": "code",
   "execution_count": 8,
   "metadata": {},
   "outputs": [
    {
     "data": {
      "text/plain": [
       "False"
      ]
     },
     "execution_count": 8,
     "metadata": {},
     "output_type": "execute_result"
    }
   ],
   "source": [
    "x.in_transaction()"
   ]
  },
  {
   "cell_type": "code",
   "execution_count": 9,
   "metadata": {},
   "outputs": [
    {
     "data": {
      "text/plain": [
       "False"
      ]
     },
     "execution_count": 9,
     "metadata": {},
     "output_type": "execute_result"
    }
   ],
   "source": [
    "x[0].in_transaction()"
   ]
  },
  {
   "cell_type": "code",
   "execution_count": 10,
   "metadata": {},
   "outputs": [],
   "source": [
    "x.abort()\n",
    "\n",
    "assert x[1] == 0\n",
    "assert 'arr' not in x[0]\n"
   ]
  },
  {
   "cell_type": "code",
   "execution_count": 11,
   "metadata": {},
   "outputs": [
    {
     "data": {
      "text/plain": [
       "'{\"table\": {\"<>140249747776928\": {\"_type\": \"humpack.wrappers.Array\", \"_data\": {\"dtype\": \"object\", \"data\": \"<>140249787800864\"}}, \"<>140249787800864\": {\"_data\": [\"<>140249747763712\", 0, 0.16912568512247483, 2.5818134573458287], \"_type\": \"list\"}, \"<>140249747763712\": {\"_type\": \"humpack.basic_containers.tdict\", \"_data\": {\"_pairs\": {\"a\": 1, \"x\": \"<>140249747763712\", \"l\": \"<>140249787800544\", \"<>140250281525120\": \"100\", \"<>140250281385872\": 1.2, \"m\": null, \"<>140250281398912\": \"<>:humpack.basic_containers.tlist\", \"<>:list\": \"<>:complex\", \"<>140249747620928\": \"<>140249787336560\", \"d = ds=a _+ sd;\": \"<>140249747663280\", \"<>140249748227504\": \"<>140250154915328\", \"<>140249748133568\": \"running\"}, \"_order\": [\"a\", \"x\", \"l\", \"<>140250281525120\", \"<>140250281385872\", \"m\", \"<>140250281398912\", \"<>:list\", \"<>140249747620928\", \"d = ds=a _+ sd;\", \"<>140249748227504\", \"<>140249748133568\"]}}, \"<>140249787800544\": {\"_data\": [\"<>140249747725680\", \"<>140249747732192\"], \"_type\": \"list\"}, \"<>140249747725680\": {\"_type\": \"humpack.basic_containers.tlist\", \"_data\": {\"_entries\": []}}, \"<>140249747732192\": {\"_type\": \"humpack.basic_containers.tset\", \"_data\": {\"_elements\": []}}, \"<>140250281525120\": {\"_type\": \"int\", \"_data\": 100}, \"<>140250281385872\": {\"_type\": \"NoneType\", \"_data\": null}, \"<>140250281398912\": {\"_type\": \"bool\", \"_data\": true}, \"<>140249747620928\": {\"_type\": \"str\", \"_data\": \"<>)dksfl_ ds: gkal\"}, \"<>140249787336560\": {\"_type\": \"str\", \"_data\": \"<>1234543224\"}, \"<>140249747663280\": {\"_data\": \"\\\\u0000\\\\u0001\\\\u0002\\\\u0003\\\\u0004\\\\u0005\\\\u0006\\\\u0007\\\\b\\\\t\\\\n\\\\u000b\\\\f\\\\r\\\\u000e\\\\u000f\\\\u0010\\\\u0011\\\\u0012\\\\u0013\\\\u0014\\\\u0015\\\\u0016\\\\u0017\\\\u0018\\\\u0019\\\\u001a\\\\u001b\\\\u001c\\\\u001d\\\\u001e\\\\u001f !\\\\\"#$%&\\'()*+,-./0123456789:;<=>?@ABCDEFGHIJKLMNOPQRSTUVWXYZ[\\\\\\\\]^_`abcdefghijklmnopqrstuvwxyz{|}~\\\\u007f\\\\u0080\\\\u0081\\\\u0082\\\\u0083\\\\u0084\\\\u0085\\\\u0086\\\\u0087\\\\u0088\\\\u0089\\\\u008a\\\\u008b\\\\u008c\\\\u008d\\\\u008e\\\\u008f\\\\u0090\\\\u0091\\\\u0092\\\\u0093\\\\u0094\\\\u0095\\\\u0096\\\\u0097\\\\u0098\\\\u0099\\\\u009a\\\\u009b\\\\u009c\\\\u009d\\\\u009e\\\\u009f\\\\u00a0\\\\u00a1\\\\u00a2\\\\u00a3\\\\u00a4\\\\u00a5\\\\u00a6\\\\u00a7\\\\u00a8\\\\u00a9\\\\u00aa\\\\u00ab\\\\u00ac\\\\u00ad\\\\u00ae\\\\u00af\\\\u00b0\\\\u00b1\\\\u00b2\\\\u00b3\\\\u00b4\\\\u00b5\\\\u00b6\\\\u00b7\\\\u00b8\\\\u00b9\\\\u00ba\\\\u00bb\\\\u00bc\\\\u00bd\\\\u00be\\\\u00bf\\\\u00c0\\\\u00c1\\\\u00c2\\\\u00c3\\\\u00c4\\\\u00c5\\\\u00c6\\\\u00c7\\\\u00c8\\\\u00c9\\\\u00ca\\\\u00cb\\\\u00cc\\\\u00cd\\\\u00ce\\\\u00cf\\\\u00d0\\\\u00d1\\\\u00d2\\\\u00d3\\\\u00d4\\\\u00d5\\\\u00d6\\\\u00d7\\\\u00d8\\\\u00d9\\\\u00da\\\\u00db\\\\u00dc\\\\u00dd\\\\u00de\\\\u00df\\\\u00e0\\\\u00e1\\\\u00e2\\\\u00e3\\\\u00e4\\\\u00e5\\\\u00e6\\\\u00e7\\\\u00e8\\\\u00e9\\\\u00ea\\\\u00eb\\\\u00ec\\\\u00ed\\\\u00ee\\\\u00ef\\\\u00f0\\\\u00f1\\\\u00f2\\\\u00f3\\\\u00f4\\\\u00f5\\\\u00f6\\\\u00f7\\\\u00f8\\\\u00f9\\\\u00fa\\\\u00fb\\\\u00fc\\\\u00fd\\\\u00fe\\\\u00ff\", \"_type\": \"bytes\"}, \"<>140249748227504\": {\"_data\": [12.2344, 0.023], \"_type\": \"complex\"}, \"<>140250154915328\": {\"_data\": {\"start\": 123, \"stop\": 456, \"step\": 7}, \"_type\": \"range\"}, \"<>140249748133568\": {\"_data\": \"\\\\u00aa\", \"_type\": \"bytes\"}}, \"meta\": {}, \"head\": \"<>140249747776928\"}'"
      ]
     },
     "execution_count": 11,
     "metadata": {},
     "output_type": "execute_result"
    }
   ],
   "source": [
    "s"
   ]
  },
  {
   "cell_type": "code",
   "execution_count": 14,
   "metadata": {},
   "outputs": [
    {
     "data": {
      "text/plain": [
       "'{\"table\": {\"<>140249747776928\": {\"_type\": \"humpack.wrappers.Array\", \"_data\": {\"dtype\": \"object\", \"data\": \"<>140249744924992\"}}, \"<>140249744924992\": {\"_data\": [\"<>140249747763712\", 0, 0.16912568512247483, 2.5818134573458287], \"_type\": \"list\"}, \"<>140249747763712\": {\"_type\": \"humpack.basic_containers.tdict\", \"_data\": {\"_pairs\": {\"a\": 1, \"x\": \"<>140249747763712\", \"l\": \"<>140249787800544\", \"<>140250281525120\": \"100\", \"<>140250281385872\": 1.2, \"m\": null, \"<>140250281398912\": \"<>:humpack.basic_containers.tlist\", \"<>:list\": \"<>:complex\", \"<>140249747620928\": \"<>140249787336560\", \"d = ds=a _+ sd;\": \"<>140249747663280\", \"<>140249748227504\": \"<>140250154915328\", \"<>140249748133568\": \"running\"}, \"_order\": [\"a\", \"x\", \"l\", \"<>140250281525120\", \"<>140250281385872\", \"m\", \"<>140250281398912\", \"<>:list\", \"<>140249747620928\", \"d = ds=a _+ sd;\", \"<>140249748227504\", \"<>140249748133568\"]}}, \"<>140249787800544\": {\"_data\": [\"<>140249747725680\", \"<>140249747732192\"], \"_type\": \"list\"}, \"<>140249747725680\": {\"_type\": \"humpack.basic_containers.tlist\", \"_data\": {\"_entries\": []}}, \"<>140249747732192\": {\"_type\": \"humpack.basic_containers.tset\", \"_data\": {\"_elements\": []}}, \"<>140250281525120\": {\"_type\": \"int\", \"_data\": 100}, \"<>140250281385872\": {\"_type\": \"NoneType\", \"_data\": null}, \"<>140250281398912\": {\"_type\": \"bool\", \"_data\": true}, \"<>140249747620928\": {\"_type\": \"str\", \"_data\": \"<>)dksfl_ ds: gkal\"}, \"<>140249787336560\": {\"_type\": \"str\", \"_data\": \"<>1234543224\"}, \"<>140249747663280\": {\"_data\": \"\\\\u0000\\\\u0001\\\\u0002\\\\u0003\\\\u0004\\\\u0005\\\\u0006\\\\u0007\\\\b\\\\t\\\\n\\\\u000b\\\\f\\\\r\\\\u000e\\\\u000f\\\\u0010\\\\u0011\\\\u0012\\\\u0013\\\\u0014\\\\u0015\\\\u0016\\\\u0017\\\\u0018\\\\u0019\\\\u001a\\\\u001b\\\\u001c\\\\u001d\\\\u001e\\\\u001f !\\\\\"#$%&\\'()*+,-./0123456789:;<=>?@ABCDEFGHIJKLMNOPQRSTUVWXYZ[\\\\\\\\]^_`abcdefghijklmnopqrstuvwxyz{|}~\\\\u007f\\\\u0080\\\\u0081\\\\u0082\\\\u0083\\\\u0084\\\\u0085\\\\u0086\\\\u0087\\\\u0088\\\\u0089\\\\u008a\\\\u008b\\\\u008c\\\\u008d\\\\u008e\\\\u008f\\\\u0090\\\\u0091\\\\u0092\\\\u0093\\\\u0094\\\\u0095\\\\u0096\\\\u0097\\\\u0098\\\\u0099\\\\u009a\\\\u009b\\\\u009c\\\\u009d\\\\u009e\\\\u009f\\\\u00a0\\\\u00a1\\\\u00a2\\\\u00a3\\\\u00a4\\\\u00a5\\\\u00a6\\\\u00a7\\\\u00a8\\\\u00a9\\\\u00aa\\\\u00ab\\\\u00ac\\\\u00ad\\\\u00ae\\\\u00af\\\\u00b0\\\\u00b1\\\\u00b2\\\\u00b3\\\\u00b4\\\\u00b5\\\\u00b6\\\\u00b7\\\\u00b8\\\\u00b9\\\\u00ba\\\\u00bb\\\\u00bc\\\\u00bd\\\\u00be\\\\u00bf\\\\u00c0\\\\u00c1\\\\u00c2\\\\u00c3\\\\u00c4\\\\u00c5\\\\u00c6\\\\u00c7\\\\u00c8\\\\u00c9\\\\u00ca\\\\u00cb\\\\u00cc\\\\u00cd\\\\u00ce\\\\u00cf\\\\u00d0\\\\u00d1\\\\u00d2\\\\u00d3\\\\u00d4\\\\u00d5\\\\u00d6\\\\u00d7\\\\u00d8\\\\u00d9\\\\u00da\\\\u00db\\\\u00dc\\\\u00dd\\\\u00de\\\\u00df\\\\u00e0\\\\u00e1\\\\u00e2\\\\u00e3\\\\u00e4\\\\u00e5\\\\u00e6\\\\u00e7\\\\u00e8\\\\u00e9\\\\u00ea\\\\u00eb\\\\u00ec\\\\u00ed\\\\u00ee\\\\u00ef\\\\u00f0\\\\u00f1\\\\u00f2\\\\u00f3\\\\u00f4\\\\u00f5\\\\u00f6\\\\u00f7\\\\u00f8\\\\u00f9\\\\u00fa\\\\u00fb\\\\u00fc\\\\u00fd\\\\u00fe\\\\u00ff\", \"_type\": \"bytes\"}, \"<>140249748227504\": {\"_data\": [12.2344, 0.023], \"_type\": \"complex\"}, \"<>140250154915328\": {\"_data\": {\"start\": 123, \"stop\": 456, \"step\": 7}, \"_type\": \"range\"}, \"<>140249748133568\": {\"_data\": \"\\\\u00aa\", \"_type\": \"bytes\"}}, \"meta\": {}, \"head\": \"<>140249747776928\"}'"
      ]
     },
     "execution_count": 14,
     "metadata": {},
     "output_type": "execute_result"
    }
   ],
   "source": [
    "json_pack(x)"
   ]
  },
  {
   "cell_type": "code",
   "execution_count": 17,
   "metadata": {},
   "outputs": [
    {
     "name": "stdout",
     "output_type": "stream",
     "text": [
      "112 5 4\n",
      "113 0 9\n",
      "114 2 7\n",
      "115 1 8\n",
      "116 5 7\n",
      "117 4 8\n",
      "119 4 0\n",
      "120 5 8\n",
      "122 0 4\n",
      "135 5 4\n",
      "136 0 9\n",
      "137 2 7\n",
      "138 1 8\n",
      "139 5 7\n",
      "140 4 8\n",
      "142 4 0\n",
      "143 5 8\n",
      "145 0 4\n"
     ]
    }
   ],
   "source": [
    "for i,(a,b) in enumerate(zip(json_pack(x), s)):\n",
    "    if a != b:\n",
    "        print(i, a,b)"
   ]
  },
  {
   "cell_type": "code",
   "execution_count": 21,
   "metadata": {},
   "outputs": [
    {
     "data": {
      "text/plain": [
       "'Array\", \"_data\": {\"dtype\": \"object\", \"data\": \"<>140249787800864\"}}, \"<'"
      ]
     },
     "execution_count": 21,
     "metadata": {},
     "output_type": "execute_result"
    }
   ],
   "source": [
    "s[60:130]"
   ]
  },
  {
   "cell_type": "code",
   "execution_count": null,
   "metadata": {},
   "outputs": [],
   "source": []
  },
  {
   "cell_type": "code",
   "execution_count": null,
   "metadata": {},
   "outputs": [],
   "source": [
    "assert s == json_pack(x)\n",
    "assert repr(json_unpack(s)) == repr(x)"
   ]
  },
  {
   "cell_type": "code",
   "execution_count": null,
   "metadata": {},
   "outputs": [],
   "source": []
  },
  {
   "cell_type": "code",
   "execution_count": null,
   "metadata": {},
   "outputs": [],
   "source": []
  },
  {
   "cell_type": "code",
   "execution_count": null,
   "metadata": {},
   "outputs": [],
   "source": [
    "x = scr.secure_key('test', 'salt')\n",
    "x"
   ]
  },
  {
   "cell_type": "code",
   "execution_count": null,
   "metadata": {},
   "outputs": [],
   "source": []
  },
  {
   "cell_type": "code",
   "execution_count": null,
   "metadata": {},
   "outputs": [],
   "source": [
    "x = np.arange(3).astype(object)\n",
    "\n",
    "x[0] = get_tdict()\n",
    "\n",
    "p = json_pack(x)\n",
    "c = json_unpack(p)\n",
    "c"
   ]
  },
  {
   "cell_type": "code",
   "execution_count": null,
   "metadata": {},
   "outputs": [],
   "source": []
  },
  {
   "cell_type": "code",
   "execution_count": null,
   "metadata": {},
   "outputs": [],
   "source": [
    "len(x)"
   ]
  },
  {
   "cell_type": "code",
   "execution_count": null,
   "metadata": {},
   "outputs": [],
   "source": [
    "x = get_tdict()\n",
    "x"
   ]
  },
  {
   "cell_type": "code",
   "execution_count": null,
   "metadata": {},
   "outputs": [],
   "source": [
    "s = pack(x)"
   ]
  },
  {
   "cell_type": "code",
   "execution_count": null,
   "metadata": {},
   "outputs": [],
   "source": [
    "l = unpack(s)\n",
    "l"
   ]
  },
  {
   "cell_type": "code",
   "execution_count": null,
   "metadata": {},
   "outputs": [],
   "source": [
    "ref = r'''t{'a':1, 'x':{...}, 'l':[t[], t{}], 100:'100', None:1.2, 'm':None, True:<class 'humpack.basic_containers.tlist'>, <class 'list'>:<class 'complex'>, '<>)dksfl_ ds: gkal':'<>1234543224', 'd = ds=a _+ sd;':b'\\x00\\x01\\x02\\x03\\x04\\x05\\x06\\x07\\x08\\t\\n\\x0b\\x0c\\r\\x0e\\x0f\\x10\\x11\\x12\\x13\\x14\\x15\\x16\\x17\\x18\\x19\\x1a\\x1b\\x1c\\x1d\\x1e\\x1f !\"#$%&\\'()*+,-./0123456789:;<=>?@ABCDEFGHIJKLMNOPQRSTUVWXYZ[\\\\]^_`abcdefghijklmnopqrstuvwxyz{|}~\\x7f\\x80\\x81\\x82\\x83\\x84\\x85\\x86\\x87\\x88\\x89\\x8a\\x8b\\x8c\\x8d\\x8e\\x8f\\x90\\x91\\x92\\x93\\x94\\x95\\x96\\x97\\x98\\x99\\x9a\\x9b\\x9c\\x9d\\x9e\\x9f\\xa0\\xa1\\xa2\\xa3\\xa4\\xa5\\xa6\\xa7\\xa8\\xa9\\xaa\\xab\\xac\\xad\\xae\\xaf\\xb0\\xb1\\xb2\\xb3\\xb4\\xb5\\xb6\\xb7\\xb8\\xb9\\xba\\xbb\\xbc\\xbd\\xbe\\xbf\\xc0\\xc1\\xc2\\xc3\\xc4\\xc5\\xc6\\xc7\\xc8\\xc9\\xca\\xcb\\xcc\\xcd\\xce\\xcf\\xd0\\xd1\\xd2\\xd3\\xd4\\xd5\\xd6\\xd7\\xd8\\xd9\\xda\\xdb\\xdc\\xdd\\xde\\xdf\\xe0\\xe1\\xe2\\xe3\\xe4\\xe5\\xe6\\xe7\\xe8\\xe9\\xea\\xeb\\xec\\xed\\xee\\xef\\xf0\\xf1\\xf2\\xf3\\xf4\\xf5\\xf6\\xf7\\xf8\\xf9\\xfa\\xfb\\xfc\\xfd\\xfe\\xff', (12.2344+0.023j):range(123, 456, 7), b'\\xaa':'running'}'''"
   ]
  },
  {
   "cell_type": "code",
   "execution_count": null,
   "metadata": {},
   "outputs": [],
   "source": [
    "repr(l) == ref"
   ]
  },
  {
   "cell_type": "code",
   "execution_count": null,
   "metadata": {},
   "outputs": [],
   "source": []
  }
 ],
 "metadata": {
  "kernelspec": {
   "display_name": "Python 3",
   "language": "python",
   "name": "python3"
  },
  "language_info": {
   "codemirror_mode": {
    "name": "ipython",
    "version": 3
   },
   "file_extension": ".py",
   "mimetype": "text/x-python",
   "name": "python",
   "nbconvert_exporter": "python",
   "pygments_lexer": "ipython3",
   "version": "3.7.4"
  }
 },
 "nbformat": 4,
 "nbformat_minor": 2
}
