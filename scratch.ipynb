{
 "cells": [
  {
   "cell_type": "code",
   "execution_count": 20,
   "metadata": {},
   "outputs": [
    {
     "ename": "ModuleNotFoundError",
     "evalue": "No module named 'tests._util_test'",
     "output_type": "error",
     "traceback": [
      "\u001b[0;31m---------------------------------------------------------------------------\u001b[0m",
      "\u001b[0;31mModuleNotFoundError\u001b[0m                       Traceback (most recent call last)",
      "\u001b[0;32m<ipython-input-20-0f1f64d84c91>\u001b[0m in \u001b[0;36m<module>\u001b[0;34m\u001b[0m\n\u001b[1;32m      5\u001b[0m \u001b[0;32mfrom\u001b[0m \u001b[0mtyping\u001b[0m \u001b[0;32mimport\u001b[0m \u001b[0mAny\u001b[0m\u001b[0;34m,\u001b[0m \u001b[0mUnion\u001b[0m\u001b[0;34m,\u001b[0m \u001b[0mDict\u001b[0m\u001b[0;34m,\u001b[0m \u001b[0mList\u001b[0m\u001b[0;34m\u001b[0m\u001b[0;34m\u001b[0m\u001b[0m\n\u001b[1;32m      6\u001b[0m \u001b[0;32mimport\u001b[0m \u001b[0mhumpack\u001b[0m\u001b[0;34m\u001b[0m\u001b[0;34m\u001b[0m\u001b[0m\n\u001b[0;32m----> 7\u001b[0;31m \u001b[0;32mimport\u001b[0m \u001b[0mtests\u001b[0m\u001b[0;34m.\u001b[0m\u001b[0m_util_test\u001b[0m \u001b[0;32mas\u001b[0m \u001b[0mutils\u001b[0m\u001b[0;34m\u001b[0m\u001b[0;34m\u001b[0m\u001b[0m\n\u001b[0m\u001b[1;32m      8\u001b[0m \u001b[0;32mfrom\u001b[0m \u001b[0mhumpack\u001b[0m \u001b[0;32mimport\u001b[0m \u001b[0mtdict\u001b[0m\u001b[0;34m,\u001b[0m \u001b[0mtlist\u001b[0m\u001b[0;34m,\u001b[0m \u001b[0mtset\u001b[0m\u001b[0;34m\u001b[0m\u001b[0;34m\u001b[0m\u001b[0m\n\u001b[1;32m      9\u001b[0m \u001b[0;32mfrom\u001b[0m \u001b[0mhumpack\u001b[0m \u001b[0;32mimport\u001b[0m \u001b[0msecure\u001b[0m \u001b[0;32mas\u001b[0m \u001b[0mscr\u001b[0m\u001b[0;34m\u001b[0m\u001b[0;34m\u001b[0m\u001b[0m\n",
      "\u001b[0;31mModuleNotFoundError\u001b[0m: No module named 'tests._util_test'"
     ]
    }
   ],
   "source": [
    "import sys, os\n",
    "import numpy as np\n",
    "import json\n",
    "import pickle\n",
    "from typing import Any, Union, Dict, List\n",
    "import humpack\n",
    "from humpack import tdict, tlist, tset\n",
    "from humpack import secure as scr\n",
    "from humpack import pack, unpack, pack_data, unpack_data"
   ]
  },
  {
   "cell_type": "code",
   "execution_count": 19,
   "metadata": {},
   "outputs": [],
   "source": [
    "class A(object):\n",
    "    def __init_subclass__(cls, **kwargs):\n",
    "        print('init', cls, kwargs)\n",
    "        super().__init_subclass__()\n",
    "    \n",
    "class T(object):\n",
    "    pass"
   ]
  },
  {
   "cell_type": "code",
   "execution_count": 21,
   "metadata": {},
   "outputs": [
    {
     "name": "stdout",
     "output_type": "stream",
     "text": [
      "init <class '__main__.B'> {'check_type': <class '__main__.T'>}\n"
     ]
    }
   ],
   "source": [
    "class B(A, check_type=T):\n",
    "    pass"
   ]
  },
  {
   "cell_type": "code",
   "execution_count": null,
   "metadata": {},
   "outputs": [],
   "source": []
  },
  {
   "cell_type": "code",
   "execution_count": null,
   "metadata": {},
   "outputs": [],
   "source": []
  },
  {
   "cell_type": "code",
   "execution_count": 2,
   "metadata": {},
   "outputs": [
    {
     "ename": "TypeError",
     "evalue": "numpy.ndarray.__new__(): not enough arguments",
     "output_type": "error",
     "traceback": [
      "\u001b[0;31m---------------------------------------------------------------------------\u001b[0m",
      "\u001b[0;31mTypeError\u001b[0m                                 Traceback (most recent call last)",
      "\u001b[0;32m<ipython-input-2-8ea0b26ce33f>\u001b[0m in \u001b[0;36m<module>\u001b[0;34m\u001b[0m\n\u001b[0;32m----> 1\u001b[0;31m \u001b[0ma\u001b[0m \u001b[0;34m=\u001b[0m \u001b[0mnp\u001b[0m\u001b[0;34m.\u001b[0m\u001b[0mndarray\u001b[0m\u001b[0;34m.\u001b[0m\u001b[0m__new__\u001b[0m\u001b[0;34m(\u001b[0m\u001b[0;34m)\u001b[0m\u001b[0;34m\u001b[0m\u001b[0;34m\u001b[0m\u001b[0m\n\u001b[0m\u001b[1;32m      2\u001b[0m \u001b[0ma\u001b[0m\u001b[0;34m\u001b[0m\u001b[0;34m\u001b[0m\u001b[0m\n",
      "\u001b[0;31mTypeError\u001b[0m: numpy.ndarray.__new__(): not enough arguments"
     ]
    }
   ],
   "source": [
    "a = np.ndarray.__new__()\n",
    "a"
   ]
  },
  {
   "cell_type": "code",
   "execution_count": 2,
   "metadata": {},
   "outputs": [
    {
     "data": {
      "text/plain": [
       "(3, [])"
      ]
     },
     "execution_count": 2,
     "metadata": {},
     "output_type": "execute_result"
    }
   ],
   "source": [
    "t = (3,[])\n",
    "t"
   ]
  },
  {
   "cell_type": "code",
   "execution_count": 3,
   "metadata": {},
   "outputs": [
    {
     "data": {
      "text/plain": [
       "(3, [(...)])"
      ]
     },
     "execution_count": 3,
     "metadata": {},
     "output_type": "execute_result"
    }
   ],
   "source": [
    "t[1].append(t)\n",
    "t"
   ]
  },
  {
   "cell_type": "code",
   "execution_count": 4,
   "metadata": {},
   "outputs": [
    {
     "data": {
      "text/plain": [
       "t{'a':1, 'x':{...}, 'l':[t[], t{}], 100:'100', None:1.2, 'm':None, 'b':b'P|e\\x90Q\\xfd\\xf9?\\xad\\xd9\\xb7/\\x82\\x93\\xe3\\xbf\\xd2\\x8fTr\\xc8\\xe6\\xe0\\xbf', b'\\xaa':'running'}"
      ]
     },
     "execution_count": 4,
     "metadata": {},
     "output_type": "execute_result"
    }
   ],
   "source": [
    "x = tdict()\n",
    "x.a = 1\n",
    "x.x = x\n",
    "x.l = [tlist(), tset()]\n",
    "x[100] = '100'\n",
    "x[None] = 1.2\n",
    "x.m = None\n",
    "np.random.seed(1)\n",
    "x.b = np.random.randn(3).tobytes()\n",
    "x[b'\\xaa'] = 'running'\n",
    "t = x\n",
    "t"
   ]
  },
  {
   "cell_type": "code",
   "execution_count": 12,
   "metadata": {},
   "outputs": [
    {
     "data": {
      "text/plain": [
       "1464"
      ]
     },
     "execution_count": 12,
     "metadata": {},
     "output_type": "execute_result"
    }
   ],
   "source": [
    "x = scr.secure_pack(t, hsh='test')\n",
    "# x = pack(t)\n",
    "# x = pickle.dumps(t)\n",
    "len(x)"
   ]
  },
  {
   "cell_type": "code",
   "execution_count": 13,
   "metadata": {},
   "outputs": [
    {
     "data": {
      "text/plain": [
       "b'gAAAAABeRGPkQrmdH-heeJP2dZ-v4EJAF1Jo0Uw5j6qkcBOe6j9z6LSfzXyTTSairZc1yoNbDBZEFynl9ICwqMHybmIetP9pokHGoYoEmRrwVZpYV4p8BZjpFcktzVpjtYcxprZH2dUVVCnTjOTUJM3R3Tfp5AiqSLC4wAg1OBnovRzLUScRdyOExOF_WZcRTtQ_oYoDnB2Y8oRqQL3FCyx5uqlpf-6J34UWUlTPeAPBIcVV8F1l2-f6jIniTvvTxM7HR8BhGFjO-Eq1M21sHZNAhLS6EAM8Yq95acpU9PzCquAZC8rTIm4uQDyCGsKkG3-Jaeq7wJ_RD_xEEvFfMAQ5NiYIvzcSJSQ8QxIssx2MMSnsdEHWQjaLfWwEk1cn1oIR9S2_yqLIyHDJCLtgvERbbJOs1idvZYKGHKgpwozKb6fOnhFlQihejpqCMCnxr2kY32WU138HST6qMqek8orqY8w7VceAz-GjtduHmBtCjWXWNVZjv-pGYDnidkXruRwE2luCgDruV07YRBfHOwVZKBWZmDYUNWYyObYui6smBRuiLmbpudl7uDQfY3iH7kAxT4gyFyhWhSTVpKuvSARPTvTVCDqpSO-l-5G-iAky0Zd6pCoHBvPjkk_8FZHEyD-tdvcu5kxALhvQzXH_3pTzNNh3Cr5JKGTuMjvBHC8Fol-mwzA_ps2hriBjj2DKqKyhEoZ-yUlfRjnvJr6TbHBcAkI1opZPXsVk5hgt8_KYp0xSbr_1eshnelou8dl4-CtPdncDTjAWy2fBMDFwsyWdiqefRWEFFQitqm70w-N9q8JGCiTrws9s60cizWosBhuGhwJOU-Imx6bW8B6Haqs-UjWcpw5qAo2J2WKFZWWjlv8eRt8poDYpg1cH0uQmn2C8KojTBXBKvwdHtW6POPe88hBPptPvSg2vvqFm6xtd-AB22V2zcLDg4cvb1SoATsrx6FHinpygaCO3cr7skrP1P_HmnLYtYO_e5InJWG_a2gZJnZY3Hd2KoSqrygBWOO90pX5vGeDoj4h5NOS7q34pW-ECo8RcuXnJTw76WjfY7d9yFrysd6TPiNqPaYDz1zJgIJmUT5txlkyVIJmz3ojHkitkE7Z4JpTI1Sb_aBBf1CfmUuvqK44ppANVV1z556xYFcywqL1sUm5rnaFZCK9kBCwS1KvUHRDo3KgNKPiYD7hZFbdBVaT6t958JX9-TchhDbJn_xSKDjnUTwlhI_UHmfOEZOlPLKbbWM5eeoL7XRCsGxbVzvL5qJsOVIZ2A_F0a-E4L0_5eM1dkDxG5IroHJqFd7h9QDbHWTdQyCfCx05W7hnvp2O57PkUlgpKf-ii81RuBywtf4QZumNEF_P0tOnU-8jZGoqA-IoRjYzQT_9x7wGuW7PiqF4gj7uNTbLC6ygLYWf8cSvbBnoqIDJ_2wJlUcp0DQCvYip4UgSeyL6MPlowziE='"
      ]
     },
     "execution_count": 13,
     "metadata": {},
     "output_type": "execute_result"
    }
   ],
   "source": [
    "x"
   ]
  },
  {
   "cell_type": "code",
   "execution_count": 14,
   "metadata": {},
   "outputs": [
    {
     "data": {
      "text/plain": [
       "t{'a':1, 'x':{...}, 'l':[t[], t{}], 100:'100', None:1.2, 'm':None, 'b':b'P|e\\x90Q\\xfd\\xf9?\\xad\\xd9\\xb7/\\x82\\x93\\xe3\\xbf\\xd2\\x8fTr\\xc8\\xe6\\xe0\\xbf', b'\\xaa':'running'}"
      ]
     },
     "execution_count": 14,
     "metadata": {},
     "output_type": "execute_result"
    }
   ],
   "source": [
    "# l = unpack(x)\n",
    "l = scr.secure_unpack(x, hsh='test')\n",
    "# l = pickle.loads(x)\n",
    "l"
   ]
  },
  {
   "cell_type": "code",
   "execution_count": null,
   "metadata": {},
   "outputs": [],
   "source": []
  },
  {
   "cell_type": "code",
   "execution_count": 16,
   "metadata": {},
   "outputs": [
    {
     "data": {
      "text/plain": [
       "t{'a':1, 'x':{...}, 'l':[t[], t{}], 100:'100', None:1.2, 'm':None, 'b':b\"\\xa1\\xb5=\\x92\\xf2\\t\\xda\\xbfX\\xda(\\x88',\\xc4?#9\\xd9<c\\xa9\\xd7\\xbf\", b'\\xaa':'running'}"
      ]
     },
     "execution_count": 16,
     "metadata": {},
     "output_type": "execute_result"
    }
   ],
   "source": [
    "x = tdict()\n",
    "x.a = 1\n",
    "x.x = x\n",
    "x.l = [tlist(), tset()]\n",
    "x[100] = '100'\n",
    "x[None] = 1.2\n",
    "x.m = None\n",
    "x.b = np.random.randn(3).tobytes()\n",
    "x[b'\\xaa'] = 'running'\n",
    "x"
   ]
  },
  {
   "cell_type": "code",
   "execution_count": 17,
   "metadata": {},
   "outputs": [
    {
     "data": {
      "text/plain": [
       "b'{\"table\": {\"<>139994207180184\": {\"_type\": \"humpack.basic_containers.tdict\", \"_data\": {\"_pairs\": {\"a\": 1, \"x\": \"<>139994207180184\", \"l\": \"<>139994208494536\", \"<>94495694774400\": \"100\", \"<>94495694635248\": 1.2, \"m\": null, \"b\": \"<>139994207416944\", \"<>139994206928648\": \"running\"}, \"_order\": [\"a\", \"x\", \"l\", \"<>94495694774400\", \"<>94495694635248\", \"m\", \"b\", \"<>139994206928648\"]}}, \"<>139994208494536\": {\"_data\": [\"<>139994207409080\", \"<>139994206921008\"], \"_type\": \"list\"}, \"<>139994207409080\": {\"_type\": \"humpack.basic_containers.tlist\", \"_data\": {\"_entries\": []}}, \"<>139994206921008\": {\"_type\": \"humpack.basic_containers.tset\", \"_data\": {\"_elements\": []}}, \"<>94495694774400\": {\"_type\": \"int\", \"_data\": 100}, \"<>94495694635248\": {\"_type\": \"NoneType\", \"_data\": null}, \"<>139994207416944\": {\"_data\": \"\\\\u00a1\\\\u00b5=\\\\u0092\\\\u00f2\\\\t\\\\u00da\\\\u00bfX\\\\u00da(\\\\u0088\\',\\\\u00c4?#9\\\\u00d9<c\\\\u00a9\\\\u00d7\\\\u00bf\", \"_type\": \"bytes\"}, \"<>139994206928648\": {\"_data\": \"\\\\u00aa\", \"_type\": \"bytes\"}}, \"meta\": {}, \"head\": \"<>139994207180184\"}'"
      ]
     },
     "execution_count": 17,
     "metadata": {},
     "output_type": "execute_result"
    }
   ],
   "source": [
    "msg = json.dumps(pack(x)).encode('latin1')\n",
    "msg"
   ]
  },
  {
   "cell_type": "code",
   "execution_count": 18,
   "metadata": {},
   "outputs": [
    {
     "name": "stdout",
     "output_type": "stream",
     "text": [
      "1013 1444\n"
     ]
    },
    {
     "data": {
      "text/plain": [
       "t{'a':1, 'x':{...}, 'l':[t[], t{}], 100:'100', None:1.2, 'm':None, 'b':b\"\\xa1\\xb5=\\x92\\xf2\\t\\xda\\xbfX\\xda(\\x88',\\xc4?#9\\xd9<c\\xa9\\xd7\\xbf\", b'\\xaa':'running'}"
      ]
     },
     "execution_count": 18,
     "metadata": {},
     "output_type": "execute_result"
    }
   ],
   "source": [
    "password = b'password'\n",
    "\n",
    "kdf = PBKDF2HMAC(\n",
    "    algorithm=hashes.SHA256(),\n",
    "    length=32,\n",
    "    salt=salt,\n",
    "    iterations=100000,\n",
    "    backend=default_backend(),\n",
    ")\n",
    "key = base64.urlsafe_b64encode(kdf.derive(password))\n",
    "f = Fernet(key)\n",
    "token = f.encrypt(msg)\n",
    "print(len(msg), len(token))\n",
    "lmsg = f.decrypt(token)\n",
    "lobj = unpack(json.loads(lmsg.decode('latin1')))\n",
    "lobj"
   ]
  },
  {
   "cell_type": "code",
   "execution_count": 23,
   "metadata": {},
   "outputs": [
    {
     "data": {
      "text/plain": [
       "32"
      ]
     },
     "execution_count": 23,
     "metadata": {},
     "output_type": "execute_result"
    }
   ],
   "source": [
    "salt = b'6FwLrxJb5mTPVwthumpackMASTERsalt'\n",
    "len(salt)"
   ]
  },
  {
   "cell_type": "code",
   "execution_count": 25,
   "metadata": {},
   "outputs": [],
   "source": [
    "f = Fernet(base64.urlsafe_b64encode(salt))"
   ]
  },
  {
   "cell_type": "code",
   "execution_count": 27,
   "metadata": {},
   "outputs": [],
   "source": [
    "from crypt import crypt"
   ]
  },
  {
   "cell_type": "code",
   "execution_count": 29,
   "metadata": {},
   "outputs": [
    {
     "data": {
      "text/plain": [
       "'6FYyxzQ.VE6WY'"
      ]
     },
     "execution_count": 29,
     "metadata": {},
     "output_type": "execute_result"
    }
   ],
   "source": [
    "crypt('test', salt.decode())"
   ]
  },
  {
   "cell_type": "code",
   "execution_count": null,
   "metadata": {},
   "outputs": [],
   "source": []
  },
  {
   "cell_type": "code",
   "execution_count": null,
   "metadata": {},
   "outputs": [],
   "source": []
  },
  {
   "cell_type": "code",
   "execution_count": 3,
   "metadata": {},
   "outputs": [
    {
     "data": {
      "text/plain": [
       "140002305622360"
      ]
     },
     "execution_count": 3,
     "metadata": {},
     "output_type": "execute_result"
    }
   ],
   "source": [
    "id(t)"
   ]
  },
  {
   "cell_type": "code",
   "execution_count": null,
   "metadata": {},
   "outputs": [],
   "source": []
  },
  {
   "cell_type": "code",
   "execution_count": 4,
   "metadata": {},
   "outputs": [
    {
     "data": {
      "text/plain": [
       "t{'a':1, 'x':{...}, 'l':[t[], t{}], 100:'100', None:1.2, 'm':None, 'b':b'\\xb8\\x89\\x89\\x8fU\\xda\\xce\\xbf\\xcb\\xfc\\x9f\\xf9\\xe6S\\xeb?\\xd2A\\xf72\\xf2\\x98\\x00@', b'\\xaa':'running'}"
      ]
     },
     "execution_count": 4,
     "metadata": {},
     "output_type": "execute_result"
    }
   ],
   "source": [
    "x = tdict()\n",
    "x.a = 1\n",
    "x.x = x\n",
    "x.l = [tlist(), tset()]\n",
    "x[100] = '100'\n",
    "x[None] = 1.2\n",
    "x.m = None\n",
    "x.b = np.random.randn(3).tobytes()\n",
    "x[b'\\xaa'] = 'running'\n",
    "x"
   ]
  },
  {
   "cell_type": "code",
   "execution_count": 5,
   "metadata": {},
   "outputs": [
    {
     "data": {
      "text/plain": [
       "{'table': {'<>140002305124960': {'_type': 'humpack.basic_containers.tdict',\n",
       "   '_data': {'_pairs': {'a': 1,\n",
       "     'x': '<>140002305124960',\n",
       "     'l': '<>140003119278856',\n",
       "     '<>94722652590208': '100',\n",
       "     '<>94722652451056': 1.2,\n",
       "     'm': None,\n",
       "     'b': '<>140002646422384',\n",
       "     '<>140002305235664': 'running'},\n",
       "    '_order': ['a',\n",
       "     'x',\n",
       "     'l',\n",
       "     '<>94722652590208',\n",
       "     '<>94722652451056',\n",
       "     'm',\n",
       "     'b',\n",
       "     '<>140002305235664']}},\n",
       "  '<>140003119278856': {'_data': ['<>140002305078280', '<>140002982137312'],\n",
       "   '_type': 'list'},\n",
       "  '<>140002305078280': {'_type': 'humpack.basic_containers.tlist',\n",
       "   '_data': {'_entries': []}},\n",
       "  '<>140002982137312': {'_type': 'humpack.basic_containers.tset',\n",
       "   '_data': {'_elements': []}},\n",
       "  '<>94722652590208': {'_type': 'int', '_data': 100},\n",
       "  '<>94722652451056': {'_type': 'NoneType', '_data': None},\n",
       "  '<>140002646422384': {'_data': '¸\\x89\\x89\\x8fUÚÎ¿Ëü\\x9fùæSë?ÒA÷2ò\\x98\\x00@',\n",
       "   '_type': 'bytes'},\n",
       "  '<>140002305235664': {'_data': 'ª', '_type': 'bytes'}},\n",
       " 'meta': {},\n",
       " 'head': '<>140002305124960'}"
      ]
     },
     "execution_count": 5,
     "metadata": {},
     "output_type": "execute_result"
    }
   ],
   "source": [
    "d = pack(x)\n",
    "d"
   ]
  },
  {
   "cell_type": "code",
   "execution_count": 6,
   "metadata": {},
   "outputs": [
    {
     "data": {
      "text/plain": [
       "'{\"table\": {\"<>140002305124960\": {\"_type\": \"humpack.basic_containers.tdict\", \"_data\": {\"_pairs\": {\"a\": 1, \"x\": \"<>140002305124960\", \"l\": \"<>140003119278856\", \"<>94722652590208\": \"100\", \"<>94722652451056\": 1.2, \"m\": null, \"b\": \"<>140002646422384\", \"<>140002305235664\": \"running\"}, \"_order\": [\"a\", \"x\", \"l\", \"<>94722652590208\", \"<>94722652451056\", \"m\", \"b\", \"<>140002305235664\"]}}, \"<>140003119278856\": {\"_data\": [\"<>140002305078280\", \"<>140002982137312\"], \"_type\": \"list\"}, \"<>140002305078280\": {\"_type\": \"humpack.basic_containers.tlist\", \"_data\": {\"_entries\": []}}, \"<>140002982137312\": {\"_type\": \"humpack.basic_containers.tset\", \"_data\": {\"_elements\": []}}, \"<>94722652590208\": {\"_type\": \"int\", \"_data\": 100}, \"<>94722652451056\": {\"_type\": \"NoneType\", \"_data\": null}, \"<>140002646422384\": {\"_data\": \"\\\\u00b8\\\\u0089\\\\u0089\\\\u008fU\\\\u00da\\\\u00ce\\\\u00bf\\\\u00cb\\\\u00fc\\\\u009f\\\\u00f9\\\\u00e6S\\\\u00eb?\\\\u00d2A\\\\u00f72\\\\u00f2\\\\u0098\\\\u0000@\", \"_type\": \"bytes\"}, \"<>140002305235664\": {\"_data\": \"\\\\u00aa\", \"_type\": \"bytes\"}}, \"meta\": {}, \"head\": \"<>140002305124960\"}'"
      ]
     },
     "execution_count": 6,
     "metadata": {},
     "output_type": "execute_result"
    }
   ],
   "source": [
    "j = json.dumps(d)\n",
    "j"
   ]
  },
  {
   "cell_type": "code",
   "execution_count": 7,
   "metadata": {},
   "outputs": [
    {
     "data": {
      "text/plain": [
       "t{'a':1, 'x':{...}, 'l':[t[], t{}], 100:'100', None:1.2, 'm':None, 'b':b'\\xb8\\x89\\x89\\x8fU\\xda\\xce\\xbf\\xcb\\xfc\\x9f\\xf9\\xe6S\\xeb?\\xd2A\\xf72\\xf2\\x98\\x00@', b'\\xaa':'running'}"
      ]
     },
     "execution_count": 7,
     "metadata": {},
     "output_type": "execute_result"
    }
   ],
   "source": [
    "uj = json.loads(j)\n",
    "o = unpack(d)\n",
    "o"
   ]
  },
  {
   "cell_type": "code",
   "execution_count": 8,
   "metadata": {},
   "outputs": [
    {
     "data": {
      "text/plain": [
       "True"
      ]
     },
     "execution_count": 8,
     "metadata": {},
     "output_type": "execute_result"
    }
   ],
   "source": [
    "(np.frombuffer(x.b) - np.frombuffer(o.b)).sum() == 0"
   ]
  },
  {
   "cell_type": "code",
   "execution_count": 13,
   "metadata": {},
   "outputs": [],
   "source": [
    "from crypt import crypt, mksalt\n",
    "import getpass\n",
    "from hmac import compare_digest"
   ]
  },
  {
   "cell_type": "code",
   "execution_count": 41,
   "metadata": {},
   "outputs": [],
   "source": [
    "_master_salt = '$6$wGLrx8b5FmTPbhumpack-master-salt'"
   ]
  },
  {
   "cell_type": "code",
   "execution_count": 42,
   "metadata": {},
   "outputs": [],
   "source": [
    "ps = 'test'\n",
    "h = crypt(ps, _master_salt)"
   ]
  },
  {
   "cell_type": "code",
   "execution_count": 43,
   "metadata": {},
   "outputs": [
    {
     "data": {
      "text/plain": [
       "'$6$wGLrx8b5FmTPbhum$O/c7o6QbLy/7CHm.zOmYQ56yMHUwWp1rgEenWYy/2HRfJbs/l/8p66Ux7tmY4/.CFRnyzwGVvS32fqIVbkmjt0'"
      ]
     },
     "execution_count": 43,
     "metadata": {},
     "output_type": "execute_result"
    }
   ],
   "source": [
    "h = crypt(ps, h)\n",
    "h"
   ]
  },
  {
   "cell_type": "code",
   "execution_count": 44,
   "metadata": {},
   "outputs": [
    {
     "data": {
      "text/plain": [
       "True"
      ]
     },
     "execution_count": 44,
     "metadata": {},
     "output_type": "execute_result"
    }
   ],
   "source": [
    "compare_digest(h, crypt(ps, h))"
   ]
  },
  {
   "cell_type": "code",
   "execution_count": null,
   "metadata": {},
   "outputs": [],
   "source": []
  },
  {
   "cell_type": "code",
   "execution_count": null,
   "metadata": {},
   "outputs": [],
   "source": []
  },
  {
   "cell_type": "code",
   "execution_count": null,
   "metadata": {},
   "outputs": [],
   "source": []
  },
  {
   "cell_type": "code",
   "execution_count": null,
   "metadata": {},
   "outputs": [],
   "source": []
  },
  {
   "cell_type": "code",
   "execution_count": 23,
   "metadata": {},
   "outputs": [],
   "source": []
  },
  {
   "cell_type": "code",
   "execution_count": 26,
   "metadata": {},
   "outputs": [
    {
     "data": {
      "text/plain": [
       "(0.414313522138587+0.30008999999999997j)"
      ]
     },
     "execution_count": 26,
     "metadata": {},
     "output_type": "execute_result"
    }
   ],
   "source": [
    "z = 1.0003+3j + np.pi\n",
    "x = (z/1e18)*10003e13\n",
    "x"
   ]
  },
  {
   "cell_type": "code",
   "execution_count": 27,
   "metadata": {},
   "outputs": [
    {
     "data": {
      "text/plain": [
       "True"
      ]
     },
     "execution_count": 27,
     "metadata": {},
     "output_type": "execute_result"
    }
   ],
   "source": [
    "complex(str(x)) == x"
   ]
  },
  {
   "cell_type": "code",
   "execution_count": 2,
   "metadata": {},
   "outputs": [
    {
     "data": {
      "text/plain": [
       "'0.1'"
      ]
     },
     "execution_count": 2,
     "metadata": {},
     "output_type": "execute_result"
    }
   ],
   "source": [
    "humpack.__version__"
   ]
  },
  {
   "cell_type": "code",
   "execution_count": 3,
   "metadata": {},
   "outputs": [
    {
     "data": {
      "text/plain": [
       "(NoneType, str, float, int, bool)"
      ]
     },
     "execution_count": 3,
     "metadata": {},
     "output_type": "execute_result"
    }
   ],
   "source": [
    "P = (type(None), str, float, int, bool)\n",
    "P"
   ]
  },
  {
   "cell_type": "code",
   "execution_count": 4,
   "metadata": {},
   "outputs": [
    {
     "data": {
      "text/plain": [
       "typing.Union[NoneType, str, float, int, bool]"
      ]
     },
     "execution_count": 4,
     "metadata": {},
     "output_type": "execute_result"
    }
   ],
   "source": [
    "Union[P]"
   ]
  },
  {
   "cell_type": "code",
   "execution_count": 5,
   "metadata": {},
   "outputs": [
    {
     "data": {
      "text/plain": [
       "typing.Union[NoneType, str, int, float, bool]"
      ]
     },
     "execution_count": 5,
     "metadata": {},
     "output_type": "execute_result"
    }
   ],
   "source": [
    "humpack.PRIMITIVE"
   ]
  },
  {
   "cell_type": "code",
   "execution_count": 6,
   "metadata": {},
   "outputs": [
    {
     "data": {
      "text/plain": [
       "typing.Union[NoneType, str, float, int, bool]"
      ]
     },
     "execution_count": 6,
     "metadata": {},
     "output_type": "execute_result"
    }
   ],
   "source": [
    "Union[P]"
   ]
  },
  {
   "cell_type": "code",
   "execution_count": null,
   "metadata": {},
   "outputs": [],
   "source": []
  },
  {
   "cell_type": "code",
   "execution_count": null,
   "metadata": {},
   "outputs": [],
   "source": []
  }
 ],
 "metadata": {
  "kernelspec": {
   "display_name": "Python 3",
   "language": "python",
   "name": "python3"
  },
  "language_info": {
   "codemirror_mode": {
    "name": "ipython",
    "version": 3
   },
   "file_extension": ".py",
   "mimetype": "text/x-python",
   "name": "python",
   "nbconvert_exporter": "python",
   "pygments_lexer": "ipython3",
   "version": "3.7.4"
  }
 },
 "nbformat": 4,
 "nbformat_minor": 2
}
