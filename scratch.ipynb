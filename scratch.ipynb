{
 "cells": [
  {
   "cell_type": "code",
   "execution_count": 2,
   "metadata": {},
   "outputs": [],
   "source": [
    "import sys, os\n",
    "import numpy as np\n",
    "import json\n",
    "import pickle\n",
    "from typing import Any, Union, Dict, List\n",
    "import humpack\n",
    "from humpack import tdict, tlist, tset\n",
    "from humpack import secure as scr\n",
    "from humpack import pack, unpack, pack_data, unpack_data, json_pack, json_unpack\n",
    "from humpack.wrappers import Array"
   ]
  },
  {
   "cell_type": "code",
   "execution_count": 3,
   "metadata": {},
   "outputs": [],
   "source": [
    "import humpack._lib_info as info"
   ]
  },
  {
   "cell_type": "code",
   "execution_count": 6,
   "metadata": {},
   "outputs": [
    {
     "data": {
      "text/plain": [
       "['apple', 'orange']"
      ]
     },
     "execution_count": 6,
     "metadata": {},
     "output_type": "execute_result"
    }
   ],
   "source": [
    "options = tlist(['orange', 'apple'])"
   ]
  },
  {
   "cell_type": "code",
   "execution_count": 7,
   "metadata": {},
   "outputs": [
    {
     "data": {
      "text/plain": [
       "t['orange']"
      ]
     },
     "execution_count": 7,
     "metadata": {},
     "output_type": "execute_result"
    }
   ],
   "source": [
    "options[:-1]"
   ]
  },
  {
   "cell_type": "code",
   "execution_count": 5,
   "metadata": {},
   "outputs": [],
   "source": [
    "from humpack import pack, unpack\n",
    "\n",
    "x = {'one': 1, 1:2, None: ['hello', 123j, {1,3,4,5}]}\n",
    "\n",
    "p = pack(x) # several standard python types are already packable\n",
    "assert isinstance(p, dict)\n",
    "deepcopy_x = unpack(p)\n",
    "assert repr(x) == repr(deepcopy_x)\n",
    "\n",
    "from humpack import json_pack, json_unpack # Convert to/from json string\n",
    "\n",
    "j = json_pack(x)\n",
    "assert isinstance(j, str)\n",
    "deepcopy_x = json_unpack(j)\n",
    "assert repr(x) == repr(deepcopy_x)\n",
    "\n",
    "\n",
    "from humpack import save_pack, load_pack # Save/load packed object to disk as json file\n",
    "import os, tempfile\n",
    "\n",
    "fd, path = tempfile.mkstemp()\n",
    "try:\n",
    "    with open(path, 'w') as tmp:\n",
    "        save_pack(x, tmp)\n",
    "    with open(path, 'r') as tmp:\n",
    "        deepcopy_x = load_pack(tmp)\n",
    "finally:\n",
    "    os.remove(path)\n",
    "assert repr(x) == repr(deepcopy_x)\n"
   ]
  },
  {
   "cell_type": "code",
   "execution_count": 14,
   "metadata": {},
   "outputs": [
    {
     "data": {
      "text/plain": [
       "str"
      ]
     },
     "execution_count": 14,
     "metadata": {},
     "output_type": "execute_result"
    }
   ],
   "source": [
    "type(j)"
   ]
  },
  {
   "cell_type": "code",
   "execution_count": null,
   "metadata": {},
   "outputs": [],
   "source": []
  },
  {
   "cell_type": "code",
   "execution_count": 1,
   "metadata": {},
   "outputs": [],
   "source": [
    "from humpack import Transactionable\n",
    "\n",
    "class Account(Transactionable):\n",
    "    def __init__(self, user, balance=0.):\n",
    "        super().__init__()\n",
    "        self._in_transaction = False\n",
    "        self._shadow_user = None\n",
    "\n",
    "        self.user = user\n",
    "        self.balance = balance\n",
    "\n",
    "    def change(self, delta):\n",
    "\n",
    "        if self.balance + delta < 0.:\n",
    "            raise ValueError\n",
    "        self.balance += delta\n",
    "\n",
    "    def begin(self):\n",
    "        # FIRST: begin the transaction in self\n",
    "        self._shadow_user = self.user.copy(), self.balance # Assuming `user` can be shallow copied.\n",
    "        self._in_transaction = True\n",
    "\n",
    "        # THEN: begin transactions in any members that are Transactionable\n",
    "        if isinstance(self.user, Transactionable):\n",
    "            self.user.begin()\n",
    "\n",
    "        # To be extra safe, you could also check `self.balance`, but we'll assume it's always a primitive (eg. float)\n",
    "\n",
    "    def in_transaction(self):\n",
    "        return self._in_transaction\n",
    "\n",
    "    def commit(self):\n",
    "        # FIRST: commit the transaction in self\n",
    "        self._in_transaction = False\n",
    "        self._shadow_user = None\n",
    "\n",
    "        # THEN: commit transactions in any members that are Transactionable\n",
    "        if isinstance(self.user, Transactionable):\n",
    "            self.user.commit()\n",
    "\n",
    "    def abort(self):\n",
    "        # FIRST: abort the transaction in self\n",
    "        if self.in_transaction(): # Note that this call only has an effect if self was in a transaction.\n",
    "            self.user, self.balance = self._shadow_user\n",
    "\n",
    "        self._in_transaction = False\n",
    "        self._shadow_user = None\n",
    "\n",
    "        # THEN: abort transactions in any members that are Transactionable\n",
    "        if isinstance(self.user, Transactionable):\n",
    "            self.user.abort()\n"
   ]
  },
  {
   "cell_type": "code",
   "execution_count": 14,
   "metadata": {},
   "outputs": [
    {
     "data": {
      "text/plain": [
       "(['Mark', 'Money'], 0)"
      ]
     },
     "execution_count": 14,
     "metadata": {},
     "output_type": "execute_result"
    }
   ],
   "source": [
    "a = Account(['Mark', 'Money'] , 0)\n",
    "a.user, a.balance"
   ]
  },
  {
   "cell_type": "code",
   "execution_count": 22,
   "metadata": {},
   "outputs": [
    {
     "data": {
      "text/plain": [
       "True"
      ]
     },
     "execution_count": 22,
     "metadata": {},
     "output_type": "execute_result"
    }
   ],
   "source": [
    "a.begin()\n",
    "a.in_transaction()"
   ]
  },
  {
   "cell_type": "code",
   "execution_count": 23,
   "metadata": {},
   "outputs": [
    {
     "data": {
      "text/plain": [
       "(['Bill', 'Money'], 200)"
      ]
     },
     "execution_count": 23,
     "metadata": {},
     "output_type": "execute_result"
    }
   ],
   "source": [
    "a.change(100)\n",
    "a.user[0] = 'Bill'\n",
    "a.user, a.balance"
   ]
  },
  {
   "cell_type": "code",
   "execution_count": 24,
   "metadata": {},
   "outputs": [],
   "source": [
    "a.abort()"
   ]
  },
  {
   "cell_type": "code",
   "execution_count": 25,
   "metadata": {},
   "outputs": [
    {
     "data": {
      "text/plain": [
       "(['Bill', 'Money'], 100)"
      ]
     },
     "execution_count": 25,
     "metadata": {},
     "output_type": "execute_result"
    }
   ],
   "source": [
    "a.user, a.balance"
   ]
  },
  {
   "cell_type": "code",
   "execution_count": null,
   "metadata": {},
   "outputs": [],
   "source": []
  },
  {
   "cell_type": "code",
   "execution_count": 2,
   "metadata": {},
   "outputs": [
    {
     "data": {
      "text/plain": [
       "array([-1.41997856,  2.75927546,  1.04447258])"
      ]
     },
     "execution_count": 2,
     "metadata": {},
     "output_type": "execute_result"
    }
   ],
   "source": [
    "x = Array(np.random.randn(3))\n",
    "x"
   ]
  },
  {
   "cell_type": "code",
   "execution_count": 3,
   "metadata": {},
   "outputs": [
    {
     "data": {
      "text/plain": [
       "'{\"table\": {\"<>140533281625104\": {\"_type\": \"humpack.wrappers.Array\", \"_data\": {\"dtype\": \"float64\", \"data\": \"<>140533281146592\"}}, \"<>140533281146592\": {\"_data\": [-1.4199785551216209, 2.7592754577655887, 1.0444725754363051], \"_type\": \"list\"}}, \"meta\": {}, \"head\": \"<>140533281625104\"}'"
      ]
     },
     "execution_count": 3,
     "metadata": {},
     "output_type": "execute_result"
    }
   ],
   "source": [
    "p = json_pack(x)\n",
    "p"
   ]
  },
  {
   "cell_type": "code",
   "execution_count": 4,
   "metadata": {},
   "outputs": [
    {
     "data": {
      "text/plain": [
       "array([-1.41997856,  2.75927546,  1.04447258])"
      ]
     },
     "execution_count": 4,
     "metadata": {},
     "output_type": "execute_result"
    }
   ],
   "source": [
    "c = json_unpack(p)\n",
    "c"
   ]
  },
  {
   "cell_type": "code",
   "execution_count": 8,
   "metadata": {},
   "outputs": [
    {
     "data": {
      "text/plain": [
       "array([0, 1, 2])"
      ]
     },
     "execution_count": 8,
     "metadata": {},
     "output_type": "execute_result"
    }
   ],
   "source": [
    "x = np.arange(3)\n",
    "x"
   ]
  },
  {
   "cell_type": "code",
   "execution_count": 9,
   "metadata": {},
   "outputs": [
    {
     "data": {
      "text/plain": [
       "dtype('O')"
      ]
     },
     "execution_count": 9,
     "metadata": {},
     "output_type": "execute_result"
    }
   ],
   "source": [
    "x = x.astype(object)\n",
    "x.dtype"
   ]
  },
  {
   "cell_type": "code",
   "execution_count": null,
   "metadata": {},
   "outputs": [],
   "source": [
    "x.dtype"
   ]
  },
  {
   "cell_type": "code",
   "execution_count": null,
   "metadata": {},
   "outputs": [],
   "source": []
  },
  {
   "cell_type": "code",
   "execution_count": null,
   "metadata": {},
   "outputs": [],
   "source": [
    "class A(object):\n",
    "    def __init_subclass__(cls, **kwargs):\n",
    "        print('init', cls, kwargs)\n",
    "        super().__init_subclass__()\n",
    "    \n",
    "class T(object):\n",
    "    pass"
   ]
  },
  {
   "cell_type": "code",
   "execution_count": null,
   "metadata": {},
   "outputs": [],
   "source": [
    "class B(A, check_type=T):\n",
    "    pass"
   ]
  },
  {
   "cell_type": "code",
   "execution_count": null,
   "metadata": {},
   "outputs": [],
   "source": []
  },
  {
   "cell_type": "code",
   "execution_count": null,
   "metadata": {},
   "outputs": [],
   "source": []
  },
  {
   "cell_type": "code",
   "execution_count": null,
   "metadata": {},
   "outputs": [],
   "source": [
    "a = np.ndarray.__new__()\n",
    "a"
   ]
  },
  {
   "cell_type": "code",
   "execution_count": null,
   "metadata": {},
   "outputs": [],
   "source": [
    "t = (3,[])\n",
    "t"
   ]
  },
  {
   "cell_type": "code",
   "execution_count": null,
   "metadata": {},
   "outputs": [],
   "source": [
    "t[1].append(t)\n",
    "t"
   ]
  },
  {
   "cell_type": "code",
   "execution_count": null,
   "metadata": {},
   "outputs": [],
   "source": [
    "x = tdict()\n",
    "x.a = 1\n",
    "x.x = x\n",
    "x.l = [tlist(), tset()]\n",
    "x[100] = '100'\n",
    "x[None] = 1.2\n",
    "x.m = None\n",
    "np.random.seed(1)\n",
    "x.b = np.random.randn(3).tobytes()\n",
    "x[b'\\xaa'] = 'running'\n",
    "t = x\n",
    "t"
   ]
  },
  {
   "cell_type": "code",
   "execution_count": null,
   "metadata": {},
   "outputs": [],
   "source": [
    "x = scr.secure_pack(t, hsh='test')\n",
    "# x = pack(t)\n",
    "# x = pickle.dumps(t)\n",
    "len(x)"
   ]
  },
  {
   "cell_type": "code",
   "execution_count": null,
   "metadata": {},
   "outputs": [],
   "source": [
    "x"
   ]
  },
  {
   "cell_type": "code",
   "execution_count": null,
   "metadata": {},
   "outputs": [],
   "source": [
    "# l = unpack(x)\n",
    "l = scr.secure_unpack(x, hsh='test')\n",
    "# l = pickle.loads(x)\n",
    "l"
   ]
  },
  {
   "cell_type": "code",
   "execution_count": null,
   "metadata": {},
   "outputs": [],
   "source": []
  },
  {
   "cell_type": "code",
   "execution_count": null,
   "metadata": {},
   "outputs": [],
   "source": [
    "x = tdict()\n",
    "x.a = 1\n",
    "x.x = x\n",
    "x.l = [tlist(), tset()]\n",
    "x[100] = '100'\n",
    "x[None] = 1.2\n",
    "x.m = None\n",
    "x.b = np.random.randn(3).tobytes()\n",
    "x[b'\\xaa'] = 'running'\n",
    "x"
   ]
  },
  {
   "cell_type": "code",
   "execution_count": null,
   "metadata": {},
   "outputs": [],
   "source": [
    "msg = json.dumps(pack(x)).encode('latin1')\n",
    "msg"
   ]
  },
  {
   "cell_type": "code",
   "execution_count": null,
   "metadata": {},
   "outputs": [],
   "source": [
    "password = b'password'\n",
    "\n",
    "kdf = PBKDF2HMAC(\n",
    "    algorithm=hashes.SHA256(),\n",
    "    length=32,\n",
    "    salt=salt,\n",
    "    iterations=100000,\n",
    "    backend=default_backend(),\n",
    ")\n",
    "key = base64.urlsafe_b64encode(kdf.derive(password))\n",
    "f = Fernet(key)\n",
    "token = f.encrypt(msg)\n",
    "print(len(msg), len(token))\n",
    "lmsg = f.decrypt(token)\n",
    "lobj = unpack(json.loads(lmsg.decode('latin1')))\n",
    "lobj"
   ]
  },
  {
   "cell_type": "code",
   "execution_count": null,
   "metadata": {},
   "outputs": [],
   "source": [
    "salt = b'6FwLrxJb5mTPVwthumpackMASTERsalt'\n",
    "len(salt)"
   ]
  },
  {
   "cell_type": "code",
   "execution_count": null,
   "metadata": {},
   "outputs": [],
   "source": [
    "f = Fernet(base64.urlsafe_b64encode(salt))"
   ]
  },
  {
   "cell_type": "code",
   "execution_count": null,
   "metadata": {},
   "outputs": [],
   "source": [
    "from crypt import crypt"
   ]
  },
  {
   "cell_type": "code",
   "execution_count": null,
   "metadata": {},
   "outputs": [],
   "source": [
    "crypt('test', salt.decode())"
   ]
  },
  {
   "cell_type": "code",
   "execution_count": null,
   "metadata": {},
   "outputs": [],
   "source": []
  },
  {
   "cell_type": "code",
   "execution_count": null,
   "metadata": {},
   "outputs": [],
   "source": []
  },
  {
   "cell_type": "code",
   "execution_count": null,
   "metadata": {},
   "outputs": [],
   "source": [
    "id(t)"
   ]
  },
  {
   "cell_type": "code",
   "execution_count": null,
   "metadata": {},
   "outputs": [],
   "source": []
  },
  {
   "cell_type": "code",
   "execution_count": null,
   "metadata": {},
   "outputs": [],
   "source": [
    "x = tdict()\n",
    "x.a = 1\n",
    "x.x = x\n",
    "x.l = [tlist(), tset()]\n",
    "x[100] = '100'\n",
    "x[None] = 1.2\n",
    "x.m = None\n",
    "x.b = np.random.randn(3).tobytes()\n",
    "x[b'\\xaa'] = 'running'\n",
    "x"
   ]
  },
  {
   "cell_type": "code",
   "execution_count": null,
   "metadata": {},
   "outputs": [],
   "source": [
    "d = pack(x)\n",
    "d"
   ]
  },
  {
   "cell_type": "code",
   "execution_count": null,
   "metadata": {},
   "outputs": [],
   "source": [
    "j = json.dumps(d)\n",
    "j"
   ]
  },
  {
   "cell_type": "code",
   "execution_count": null,
   "metadata": {},
   "outputs": [],
   "source": [
    "uj = json.loads(j)\n",
    "o = unpack(d)\n",
    "o"
   ]
  },
  {
   "cell_type": "code",
   "execution_count": null,
   "metadata": {},
   "outputs": [],
   "source": [
    "(np.frombuffer(x.b) - np.frombuffer(o.b)).sum() == 0"
   ]
  },
  {
   "cell_type": "code",
   "execution_count": null,
   "metadata": {},
   "outputs": [],
   "source": [
    "from crypt import crypt, mksalt\n",
    "import getpass\n",
    "from hmac import compare_digest"
   ]
  },
  {
   "cell_type": "code",
   "execution_count": null,
   "metadata": {},
   "outputs": [],
   "source": [
    "_master_salt = '$6$wGLrx8b5FmTPbhumpack-master-salt'"
   ]
  },
  {
   "cell_type": "code",
   "execution_count": null,
   "metadata": {},
   "outputs": [],
   "source": [
    "ps = 'test'\n",
    "h = crypt(ps, _master_salt)"
   ]
  },
  {
   "cell_type": "code",
   "execution_count": null,
   "metadata": {},
   "outputs": [],
   "source": [
    "h = crypt(ps, h)\n",
    "h"
   ]
  },
  {
   "cell_type": "code",
   "execution_count": null,
   "metadata": {},
   "outputs": [],
   "source": [
    "compare_digest(h, crypt(ps, h))"
   ]
  },
  {
   "cell_type": "code",
   "execution_count": null,
   "metadata": {},
   "outputs": [],
   "source": []
  },
  {
   "cell_type": "code",
   "execution_count": null,
   "metadata": {},
   "outputs": [],
   "source": []
  },
  {
   "cell_type": "code",
   "execution_count": null,
   "metadata": {},
   "outputs": [],
   "source": []
  },
  {
   "cell_type": "code",
   "execution_count": null,
   "metadata": {},
   "outputs": [],
   "source": []
  },
  {
   "cell_type": "code",
   "execution_count": null,
   "metadata": {},
   "outputs": [],
   "source": []
  },
  {
   "cell_type": "code",
   "execution_count": null,
   "metadata": {},
   "outputs": [],
   "source": [
    "z = 1.0003+3j + np.pi\n",
    "x = (z/1e18)*10003e13\n",
    "x"
   ]
  },
  {
   "cell_type": "code",
   "execution_count": null,
   "metadata": {},
   "outputs": [],
   "source": [
    "complex(str(x)) == x"
   ]
  },
  {
   "cell_type": "code",
   "execution_count": null,
   "metadata": {},
   "outputs": [],
   "source": [
    "humpack.__version__"
   ]
  },
  {
   "cell_type": "code",
   "execution_count": null,
   "metadata": {},
   "outputs": [],
   "source": [
    "P = (type(None), str, float, int, bool)\n",
    "P"
   ]
  },
  {
   "cell_type": "code",
   "execution_count": null,
   "metadata": {},
   "outputs": [],
   "source": [
    "Union[P]"
   ]
  },
  {
   "cell_type": "code",
   "execution_count": null,
   "metadata": {},
   "outputs": [],
   "source": [
    "humpack.PRIMITIVE"
   ]
  },
  {
   "cell_type": "code",
   "execution_count": null,
   "metadata": {},
   "outputs": [],
   "source": [
    "Union[P]"
   ]
  },
  {
   "cell_type": "code",
   "execution_count": null,
   "metadata": {},
   "outputs": [],
   "source": []
  },
  {
   "cell_type": "code",
   "execution_count": null,
   "metadata": {},
   "outputs": [],
   "source": []
  }
 ],
 "metadata": {
  "kernelspec": {
   "display_name": "Python 3",
   "language": "python",
   "name": "python3"
  },
  "language_info": {
   "codemirror_mode": {
    "name": "ipython",
    "version": 3
   },
   "file_extension": ".py",
   "mimetype": "text/x-python",
   "name": "python",
   "nbconvert_exporter": "python",
   "pygments_lexer": "ipython3",
   "version": "3.7.3"
  }
 },
 "nbformat": 4,
 "nbformat_minor": 2
}
