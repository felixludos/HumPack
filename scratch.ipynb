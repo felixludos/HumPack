{
 "cells": [
  {
   "cell_type": "code",
   "execution_count": 1,
   "metadata": {},
   "outputs": [],
   "source": [
    "import sys, os\n",
    "import numpy as np\n",
    "import json\n",
    "from typing import Any, Union, Dict, List\n",
    "import humpack\n",
    "from humpack import tdict, tlist, tset\n",
    "from humpack import pack, unpack, pack_data, unpack_data"
   ]
  },
  {
   "cell_type": "code",
   "execution_count": 2,
   "metadata": {},
   "outputs": [
    {
     "data": {
      "text/plain": [
       "t{}"
      ]
     },
     "execution_count": 2,
     "metadata": {},
     "output_type": "execute_result"
    }
   ],
   "source": [
    "t = tdict()\n",
    "t"
   ]
  },
  {
   "cell_type": "code",
   "execution_count": 3,
   "metadata": {},
   "outputs": [
    {
     "data": {
      "text/plain": [
       "139701038936408"
      ]
     },
     "execution_count": 3,
     "metadata": {},
     "output_type": "execute_result"
    }
   ],
   "source": [
    "id(t)"
   ]
  },
  {
   "cell_type": "code",
   "execution_count": null,
   "metadata": {},
   "outputs": [],
   "source": []
  },
  {
   "cell_type": "code",
   "execution_count": 25,
   "metadata": {},
   "outputs": [
    {
     "data": {
      "text/plain": [
       "t{'a':1, 'x':{...}, 'l':[t[], t{}], 100:'100', None:1.2, 'm':None, 'b':b'\\xfa_\\n\\x9d\\xcb\\x90\\xe5?\\xbf&\\xf12\\x1cv\\xe6\\xbf[\\x1b\\xd4\\\\\\xf0\\x08\\xfd?', b'\\xaa':'running'}"
      ]
     },
     "execution_count": 25,
     "metadata": {},
     "output_type": "execute_result"
    }
   ],
   "source": [
    "x = tdict()\n",
    "x.a = 1\n",
    "x.x = x\n",
    "x.l = [tlist(), tset()]\n",
    "x[100] = '100'\n",
    "x[None] = 1.2\n",
    "x.m = None\n",
    "x.b = np.random.randn(3).tobytes()\n",
    "x[b'\\xaa'] = 'running'\n",
    "x"
   ]
  },
  {
   "cell_type": "code",
   "execution_count": 26,
   "metadata": {},
   "outputs": [
    {
     "data": {
      "text/plain": [
       "{'table': {'<>139701024729424': {'_type': 'humpack.basic_containers.tdict',\n",
       "   '_data': {'_pairs': {'a': 1,\n",
       "     'x': '<>139701024729424',\n",
       "     'l': '<>139701818224904',\n",
       "     '<>94800565125248': '100',\n",
       "     '<>94800564986096': 1.2,\n",
       "     'm': None,\n",
       "     'b': '<>139701023874416',\n",
       "     '<>139701024007752': 'running'},\n",
       "    '_order': ['a',\n",
       "     'x',\n",
       "     'l',\n",
       "     '<>94800565125248',\n",
       "     '<>94800564986096',\n",
       "     'm',\n",
       "     'b',\n",
       "     '<>139701024007752']}},\n",
       "  '<>139701818224904': {'_data': ['<>139701023946376', '<>139701038069408'],\n",
       "   '_type': 'list'},\n",
       "  '<>139701023946376': {'_type': 'humpack.basic_containers.tlist',\n",
       "   '_data': {'_entries': []}},\n",
       "  '<>139701038069408': {'_type': 'humpack.basic_containers.tset',\n",
       "   '_data': {'_elements': []}},\n",
       "  '<>94800565125248': {'_type': 'int', '_data': 100},\n",
       "  '<>94800564986096': {'_type': 'NoneType', '_data': None},\n",
       "  '<>139701023874416': {'_data': 'ú_\\n\\x9dË\\x90å?¿&ñ2\\x1cvæ¿[\\x1bÔ\\\\ð\\x08ý?',\n",
       "   '_type': 'bytes'},\n",
       "  '<>139701024007752': {'_data': 'ª', '_type': 'bytes'}},\n",
       " 'meta': {},\n",
       " 'head': '<>139701024729424'}"
      ]
     },
     "execution_count": 26,
     "metadata": {},
     "output_type": "execute_result"
    }
   ],
   "source": [
    "d = pack(x)\n",
    "d"
   ]
  },
  {
   "cell_type": "code",
   "execution_count": 27,
   "metadata": {},
   "outputs": [
    {
     "data": {
      "text/plain": [
       "'{\"table\": {\"<>139701024729424\": {\"_type\": \"humpack.basic_containers.tdict\", \"_data\": {\"_pairs\": {\"a\": 1, \"x\": \"<>139701024729424\", \"l\": \"<>139701818224904\", \"<>94800565125248\": \"100\", \"<>94800564986096\": 1.2, \"m\": null, \"b\": \"<>139701023874416\", \"<>139701024007752\": \"running\"}, \"_order\": [\"a\", \"x\", \"l\", \"<>94800565125248\", \"<>94800564986096\", \"m\", \"b\", \"<>139701024007752\"]}}, \"<>139701818224904\": {\"_data\": [\"<>139701023946376\", \"<>139701038069408\"], \"_type\": \"list\"}, \"<>139701023946376\": {\"_type\": \"humpack.basic_containers.tlist\", \"_data\": {\"_entries\": []}}, \"<>139701038069408\": {\"_type\": \"humpack.basic_containers.tset\", \"_data\": {\"_elements\": []}}, \"<>94800565125248\": {\"_type\": \"int\", \"_data\": 100}, \"<>94800564986096\": {\"_type\": \"NoneType\", \"_data\": null}, \"<>139701023874416\": {\"_data\": \"\\\\u00fa_\\\\n\\\\u009d\\\\u00cb\\\\u0090\\\\u00e5?\\\\u00bf&\\\\u00f12\\\\u001cv\\\\u00e6\\\\u00bf[\\\\u001b\\\\u00d4\\\\\\\\\\\\u00f0\\\\b\\\\u00fd?\", \"_type\": \"bytes\"}, \"<>139701024007752\": {\"_data\": \"\\\\u00aa\", \"_type\": \"bytes\"}}, \"meta\": {}, \"head\": \"<>139701024729424\"}'"
      ]
     },
     "execution_count": 27,
     "metadata": {},
     "output_type": "execute_result"
    }
   ],
   "source": [
    "j = json.dumps(d)\n",
    "j"
   ]
  },
  {
   "cell_type": "code",
   "execution_count": 28,
   "metadata": {},
   "outputs": [
    {
     "data": {
      "text/plain": [
       "t{'a':1, 'x':{...}, 'l':[t[], t{}], 100:'100', None:1.2, 'm':None, 'b':b'\\xfa_\\n\\x9d\\xcb\\x90\\xe5?\\xbf&\\xf12\\x1cv\\xe6\\xbf[\\x1b\\xd4\\\\\\xf0\\x08\\xfd?', b'\\xaa':'running'}"
      ]
     },
     "execution_count": 28,
     "metadata": {},
     "output_type": "execute_result"
    }
   ],
   "source": [
    "uj = json.loads(j)\n",
    "o = unpack(d)\n",
    "o"
   ]
  },
  {
   "cell_type": "code",
   "execution_count": 29,
   "metadata": {},
   "outputs": [
    {
     "data": {
      "text/plain": [
       "True"
      ]
     },
     "execution_count": 29,
     "metadata": {},
     "output_type": "execute_result"
    }
   ],
   "source": [
    "(np.frombuffer(x.b) - np.frombuffer(o.b)).sum() == 0"
   ]
  },
  {
   "cell_type": "code",
   "execution_count": null,
   "metadata": {},
   "outputs": [],
   "source": []
  },
  {
   "cell_type": "code",
   "execution_count": null,
   "metadata": {},
   "outputs": [],
   "source": []
  },
  {
   "cell_type": "code",
   "execution_count": null,
   "metadata": {},
   "outputs": [],
   "source": []
  },
  {
   "cell_type": "code",
   "execution_count": 23,
   "metadata": {},
   "outputs": [],
   "source": []
  },
  {
   "cell_type": "code",
   "execution_count": 26,
   "metadata": {},
   "outputs": [
    {
     "data": {
      "text/plain": [
       "(0.414313522138587+0.30008999999999997j)"
      ]
     },
     "execution_count": 26,
     "metadata": {},
     "output_type": "execute_result"
    }
   ],
   "source": [
    "z = 1.0003+3j + np.pi\n",
    "x = (z/1e18)*10003e13\n",
    "x"
   ]
  },
  {
   "cell_type": "code",
   "execution_count": 27,
   "metadata": {},
   "outputs": [
    {
     "data": {
      "text/plain": [
       "True"
      ]
     },
     "execution_count": 27,
     "metadata": {},
     "output_type": "execute_result"
    }
   ],
   "source": [
    "complex(str(x)) == x"
   ]
  },
  {
   "cell_type": "code",
   "execution_count": 2,
   "metadata": {},
   "outputs": [
    {
     "data": {
      "text/plain": [
       "'0.1'"
      ]
     },
     "execution_count": 2,
     "metadata": {},
     "output_type": "execute_result"
    }
   ],
   "source": [
    "humpack.__version__"
   ]
  },
  {
   "cell_type": "code",
   "execution_count": 3,
   "metadata": {},
   "outputs": [
    {
     "data": {
      "text/plain": [
       "(NoneType, str, float, int, bool)"
      ]
     },
     "execution_count": 3,
     "metadata": {},
     "output_type": "execute_result"
    }
   ],
   "source": [
    "P = (type(None), str, float, int, bool)\n",
    "P"
   ]
  },
  {
   "cell_type": "code",
   "execution_count": 4,
   "metadata": {},
   "outputs": [
    {
     "data": {
      "text/plain": [
       "typing.Union[NoneType, str, float, int, bool]"
      ]
     },
     "execution_count": 4,
     "metadata": {},
     "output_type": "execute_result"
    }
   ],
   "source": [
    "Union[P]"
   ]
  },
  {
   "cell_type": "code",
   "execution_count": 5,
   "metadata": {},
   "outputs": [
    {
     "data": {
      "text/plain": [
       "typing.Union[NoneType, str, int, float, bool]"
      ]
     },
     "execution_count": 5,
     "metadata": {},
     "output_type": "execute_result"
    }
   ],
   "source": [
    "humpack.PRIMITIVE"
   ]
  },
  {
   "cell_type": "code",
   "execution_count": 6,
   "metadata": {},
   "outputs": [
    {
     "data": {
      "text/plain": [
       "typing.Union[NoneType, str, float, int, bool]"
      ]
     },
     "execution_count": 6,
     "metadata": {},
     "output_type": "execute_result"
    }
   ],
   "source": [
    "Union[P]"
   ]
  },
  {
   "cell_type": "code",
   "execution_count": null,
   "metadata": {},
   "outputs": [],
   "source": []
  },
  {
   "cell_type": "code",
   "execution_count": null,
   "metadata": {},
   "outputs": [],
   "source": []
  }
 ],
 "metadata": {
  "kernelspec": {
   "display_name": "Python 3",
   "language": "python",
   "name": "python3"
  },
  "language_info": {
   "codemirror_mode": {
    "name": "ipython",
    "version": 3
   },
   "file_extension": ".py",
   "mimetype": "text/x-python",
   "name": "python",
   "nbconvert_exporter": "python",
   "pygments_lexer": "ipython3",
   "version": "3.7.3"
  }
 },
 "nbformat": 4,
 "nbformat_minor": 2
}
