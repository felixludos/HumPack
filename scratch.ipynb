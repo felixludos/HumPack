{
 "cells": [
  {
   "cell_type": "code",
   "execution_count": 1,
   "metadata": {},
   "outputs": [],
   "source": [
    "import sys, os\n",
    "import numpy as np\n",
    "import json\n",
    "import pickle\n",
    "from typing import Any, Union, Dict, List\n",
    "import humpack\n",
    "from humpack import tdict, tlist, tset\n",
    "from humpack import secure as scr\n",
    "from humpack import pack, unpack, pack_data, unpack_data"
   ]
  },
  {
   "cell_type": "code",
   "execution_count": 2,
   "metadata": {},
   "outputs": [
    {
     "data": {
      "text/plain": [
       "t{'a':1, 'x':{...}, 'l':[t[], t{}], 100:'100', None:1.2, 'm':None, 'b':b'Y\\x19\\xe8F#\\xdf\\xdc?=\\x85\\xea#{\\x81\\xcd?\\xca\\\\u\\x012\\xfa\\xe2?', b'\\xaa':'running'}"
      ]
     },
     "execution_count": 2,
     "metadata": {},
     "output_type": "execute_result"
    }
   ],
   "source": [
    "x = tdict()\n",
    "x.a = 1\n",
    "x.x = x\n",
    "x.l = [tlist(), tset()]\n",
    "x[100] = '100'\n",
    "x[None] = 1.2\n",
    "x.m = None\n",
    "x.b = np.random.randn(3).tobytes()\n",
    "x[b'\\xaa'] = 'running'\n",
    "t = x\n",
    "t"
   ]
  },
  {
   "cell_type": "code",
   "execution_count": 13,
   "metadata": {},
   "outputs": [
    {
     "data": {
      "text/plain": [
       "3"
      ]
     },
     "execution_count": 13,
     "metadata": {},
     "output_type": "execute_result"
    }
   ],
   "source": [
    "# x = scr.secure_pack(t)\n",
    "x = pack(t)\n",
    "# x = pickle.dumps(t)\n",
    "len(x)"
   ]
  },
  {
   "cell_type": "code",
   "execution_count": 11,
   "metadata": {},
   "outputs": [
    {
     "data": {
      "text/plain": [
       "b'\\x80\\x03chumpack.basic_containers\\ntdict\\nq\\x00)Rq\\x01(X\\x01\\x00\\x00\\x00aq\\x02K\\x01X\\x01\\x00\\x00\\x00xq\\x03h\\x01X\\x01\\x00\\x00\\x00lq\\x04]q\\x05(chumpack.basic_containers\\ntlist\\nq\\x06)\\x81q\\x07}q\\x08(X\\x05\\x00\\x00\\x00_dataq\\t]q\\nX\\x07\\x00\\x00\\x00_shadowq\\x0bNubchumpack.basic_containers\\ntset\\nq\\x0c]q\\r\\x85q\\x0eRq\\x0f}q\\x10(h\\tccollections\\nOrderedDict\\nq\\x11)Rq\\x12h\\x0bNubeKdX\\x03\\x00\\x00\\x00100q\\x13NG?\\xf3333333X\\x01\\x00\\x00\\x00mq\\x14NX\\x01\\x00\\x00\\x00bq\\x15C\\x18\\xe0\\xe0\\xc2\\xc8\\x9fk\\xe5?j\\x1e\\xeeJ\\xce\\r\\xf5?\\x8b\\xa9e\\x84\\xebx\\xe1?q\\x16C\\x01\\xaaq\\x17X\\x07\\x00\\x00\\x00runningq\\x18u}q\\x19(h\\th\\x11)Rq\\x1a(h\\x02K\\x01h\\x03h\\x01h\\x04h\\x05Kdh\\x13NG?\\xf3333333h\\x14Nh\\x15h\\x16h\\x17h\\x18uh\\x0bNub.'"
      ]
     },
     "execution_count": 11,
     "metadata": {},
     "output_type": "execute_result"
    }
   ],
   "source": [
    "x"
   ]
  },
  {
   "cell_type": "code",
   "execution_count": 6,
   "metadata": {},
   "outputs": [
    {
     "name": "stdout",
     "output_type": "stream",
     "text": [
      "········\n"
     ]
    },
    {
     "data": {
      "text/plain": [
       "t{'a':1, 'x':{...}, 'l':[t[], t{}], 100:'100', None:1.2, 'm':None, 'b':b'\\xe0\\xe0\\xc2\\xc8\\x9fk\\xe5?j\\x1e\\xeeJ\\xce\\r\\xf5?\\x8b\\xa9e\\x84\\xebx\\xe1?', b'\\xaa':'running'}"
      ]
     },
     "execution_count": 6,
     "metadata": {},
     "output_type": "execute_result"
    }
   ],
   "source": [
    "# l = unpack(x)\n",
    "l = scr.secure_unpack(x)\n",
    "l"
   ]
  },
  {
   "cell_type": "code",
   "execution_count": null,
   "metadata": {},
   "outputs": [],
   "source": []
  },
  {
   "cell_type": "code",
   "execution_count": null,
   "metadata": {},
   "outputs": [],
   "source": []
  },
  {
   "cell_type": "code",
   "execution_count": 4,
   "metadata": {},
   "outputs": [],
   "source": [
    "from cryptography.fernet import Fernet"
   ]
  },
  {
   "cell_type": "code",
   "execution_count": 5,
   "metadata": {},
   "outputs": [
    {
     "ename": "ValueError",
     "evalue": "Fernet key must be 32 url-safe base64-encoded bytes.",
     "output_type": "error",
     "traceback": [
      "\u001b[0;31m-----------------------------------------------\u001b[0m",
      "\u001b[0;31mValueError\u001b[0m    Traceback (most recent call last)",
      "\u001b[0;32m<ipython-input-5-916418fce8f9>\u001b[0m in \u001b[0;36m<module>\u001b[0;34m\u001b[0m\n\u001b[0;32m----> 1\u001b[0;31m \u001b[0mf\u001b[0m \u001b[0;34m=\u001b[0m \u001b[0mFernet\u001b[0m\u001b[0;34m(\u001b[0m\u001b[0;34m'test'\u001b[0m\u001b[0;34m)\u001b[0m\u001b[0;34m\u001b[0m\u001b[0;34m\u001b[0m\u001b[0m\n\u001b[0m\u001b[1;32m      2\u001b[0m \u001b[0mf\u001b[0m\u001b[0;34m\u001b[0m\u001b[0;34m\u001b[0m\u001b[0m\n",
      "\u001b[0;32m~/anaconda3/lib/python3.7/site-packages/cryptography/fernet.py\u001b[0m in \u001b[0;36m__init__\u001b[0;34m(self, key, backend)\u001b[0m\n\u001b[1;32m     36\u001b[0m         \u001b[0;32mif\u001b[0m \u001b[0mlen\u001b[0m\u001b[0;34m(\u001b[0m\u001b[0mkey\u001b[0m\u001b[0;34m)\u001b[0m \u001b[0;34m!=\u001b[0m \u001b[0;36m32\u001b[0m\u001b[0;34m:\u001b[0m\u001b[0;34m\u001b[0m\u001b[0;34m\u001b[0m\u001b[0m\n\u001b[1;32m     37\u001b[0m             raise ValueError(\n\u001b[0;32m---> 38\u001b[0;31m                 \u001b[0;34m\"Fernet key must be 32 url-safe base64-encoded bytes.\"\u001b[0m\u001b[0;34m\u001b[0m\u001b[0;34m\u001b[0m\u001b[0m\n\u001b[0m\u001b[1;32m     39\u001b[0m             )\n\u001b[1;32m     40\u001b[0m \u001b[0;34m\u001b[0m\u001b[0m\n",
      "\u001b[0;31mValueError\u001b[0m: Fernet key must be 32 url-safe base64-encoded bytes."
     ]
    }
   ],
   "source": [
    "f = Fernet('test')\n",
    "f"
   ]
  },
  {
   "cell_type": "code",
   "execution_count": 6,
   "metadata": {},
   "outputs": [
    {
     "data": {
      "text/plain": [
       "b'oghzOTH5VPfD0kclgHrkDh01AKHBF3MbBTtYXMicKd4='"
      ]
     },
     "execution_count": 6,
     "metadata": {},
     "output_type": "execute_result"
    }
   ],
   "source": [
    "key = Fernet.generate_key()\n",
    "key"
   ]
  },
  {
   "cell_type": "code",
   "execution_count": 3,
   "metadata": {},
   "outputs": [],
   "source": [
    "import base64\n",
    "import os\n",
    "from cryptography.fernet import Fernet\n",
    "from cryptography.hazmat.backends import default_backend\n",
    "from cryptography.hazmat.primitives import hashes\n",
    "from cryptography.hazmat.primitives.kdf.pbkdf2 import PBKDF2HMAC"
   ]
  },
  {
   "cell_type": "code",
   "execution_count": 16,
   "metadata": {},
   "outputs": [
    {
     "data": {
      "text/plain": [
       "t{'a':1, 'x':{...}, 'l':[t[], t{}], 100:'100', None:1.2, 'm':None, 'b':b\"\\xa1\\xb5=\\x92\\xf2\\t\\xda\\xbfX\\xda(\\x88',\\xc4?#9\\xd9<c\\xa9\\xd7\\xbf\", b'\\xaa':'running'}"
      ]
     },
     "execution_count": 16,
     "metadata": {},
     "output_type": "execute_result"
    }
   ],
   "source": [
    "x = tdict()\n",
    "x.a = 1\n",
    "x.x = x\n",
    "x.l = [tlist(), tset()]\n",
    "x[100] = '100'\n",
    "x[None] = 1.2\n",
    "x.m = None\n",
    "x.b = np.random.randn(3).tobytes()\n",
    "x[b'\\xaa'] = 'running'\n",
    "x"
   ]
  },
  {
   "cell_type": "code",
   "execution_count": 17,
   "metadata": {},
   "outputs": [
    {
     "data": {
      "text/plain": [
       "b'{\"table\": {\"<>139994207180184\": {\"_type\": \"humpack.basic_containers.tdict\", \"_data\": {\"_pairs\": {\"a\": 1, \"x\": \"<>139994207180184\", \"l\": \"<>139994208494536\", \"<>94495694774400\": \"100\", \"<>94495694635248\": 1.2, \"m\": null, \"b\": \"<>139994207416944\", \"<>139994206928648\": \"running\"}, \"_order\": [\"a\", \"x\", \"l\", \"<>94495694774400\", \"<>94495694635248\", \"m\", \"b\", \"<>139994206928648\"]}}, \"<>139994208494536\": {\"_data\": [\"<>139994207409080\", \"<>139994206921008\"], \"_type\": \"list\"}, \"<>139994207409080\": {\"_type\": \"humpack.basic_containers.tlist\", \"_data\": {\"_entries\": []}}, \"<>139994206921008\": {\"_type\": \"humpack.basic_containers.tset\", \"_data\": {\"_elements\": []}}, \"<>94495694774400\": {\"_type\": \"int\", \"_data\": 100}, \"<>94495694635248\": {\"_type\": \"NoneType\", \"_data\": null}, \"<>139994207416944\": {\"_data\": \"\\\\u00a1\\\\u00b5=\\\\u0092\\\\u00f2\\\\t\\\\u00da\\\\u00bfX\\\\u00da(\\\\u0088\\',\\\\u00c4?#9\\\\u00d9<c\\\\u00a9\\\\u00d7\\\\u00bf\", \"_type\": \"bytes\"}, \"<>139994206928648\": {\"_data\": \"\\\\u00aa\", \"_type\": \"bytes\"}}, \"meta\": {}, \"head\": \"<>139994207180184\"}'"
      ]
     },
     "execution_count": 17,
     "metadata": {},
     "output_type": "execute_result"
    }
   ],
   "source": [
    "msg = json.dumps(pack(x)).encode('latin1')\n",
    "msg"
   ]
  },
  {
   "cell_type": "code",
   "execution_count": 18,
   "metadata": {},
   "outputs": [
    {
     "name": "stdout",
     "output_type": "stream",
     "text": [
      "1013 1444\n"
     ]
    },
    {
     "data": {
      "text/plain": [
       "t{'a':1, 'x':{...}, 'l':[t[], t{}], 100:'100', None:1.2, 'm':None, 'b':b\"\\xa1\\xb5=\\x92\\xf2\\t\\xda\\xbfX\\xda(\\x88',\\xc4?#9\\xd9<c\\xa9\\xd7\\xbf\", b'\\xaa':'running'}"
      ]
     },
     "execution_count": 18,
     "metadata": {},
     "output_type": "execute_result"
    }
   ],
   "source": [
    "password = b'password'\n",
    "\n",
    "kdf = PBKDF2HMAC(\n",
    "    algorithm=hashes.SHA256(),\n",
    "    length=32,\n",
    "    salt=salt,\n",
    "    iterations=100000,\n",
    "    backend=default_backend(),\n",
    ")\n",
    "key = base64.urlsafe_b64encode(kdf.derive(password))\n",
    "f = Fernet(key)\n",
    "token = f.encrypt(msg)\n",
    "print(len(msg), len(token))\n",
    "lmsg = f.decrypt(token)\n",
    "lobj = unpack(json.loads(lmsg.decode('latin1')))\n",
    "lobj"
   ]
  },
  {
   "cell_type": "code",
   "execution_count": 23,
   "metadata": {},
   "outputs": [
    {
     "data": {
      "text/plain": [
       "32"
      ]
     },
     "execution_count": 23,
     "metadata": {},
     "output_type": "execute_result"
    }
   ],
   "source": [
    "salt = b'6FwLrxJb5mTPVwthumpackMASTERsalt'\n",
    "len(salt)"
   ]
  },
  {
   "cell_type": "code",
   "execution_count": 25,
   "metadata": {},
   "outputs": [],
   "source": [
    "f = Fernet(base64.urlsafe_b64encode(salt))"
   ]
  },
  {
   "cell_type": "code",
   "execution_count": 27,
   "metadata": {},
   "outputs": [],
   "source": [
    "from crypt import crypt"
   ]
  },
  {
   "cell_type": "code",
   "execution_count": 29,
   "metadata": {},
   "outputs": [
    {
     "data": {
      "text/plain": [
       "'6FYyxzQ.VE6WY'"
      ]
     },
     "execution_count": 29,
     "metadata": {},
     "output_type": "execute_result"
    }
   ],
   "source": [
    "crypt('test', salt.decode())"
   ]
  },
  {
   "cell_type": "code",
   "execution_count": null,
   "metadata": {},
   "outputs": [],
   "source": []
  },
  {
   "cell_type": "code",
   "execution_count": null,
   "metadata": {},
   "outputs": [],
   "source": []
  },
  {
   "cell_type": "code",
   "execution_count": 3,
   "metadata": {},
   "outputs": [
    {
     "data": {
      "text/plain": [
       "140002305622360"
      ]
     },
     "execution_count": 3,
     "metadata": {},
     "output_type": "execute_result"
    }
   ],
   "source": [
    "id(t)"
   ]
  },
  {
   "cell_type": "code",
   "execution_count": null,
   "metadata": {},
   "outputs": [],
   "source": []
  },
  {
   "cell_type": "code",
   "execution_count": 4,
   "metadata": {},
   "outputs": [
    {
     "data": {
      "text/plain": [
       "t{'a':1, 'x':{...}, 'l':[t[], t{}], 100:'100', None:1.2, 'm':None, 'b':b'\\xb8\\x89\\x89\\x8fU\\xda\\xce\\xbf\\xcb\\xfc\\x9f\\xf9\\xe6S\\xeb?\\xd2A\\xf72\\xf2\\x98\\x00@', b'\\xaa':'running'}"
      ]
     },
     "execution_count": 4,
     "metadata": {},
     "output_type": "execute_result"
    }
   ],
   "source": [
    "x = tdict()\n",
    "x.a = 1\n",
    "x.x = x\n",
    "x.l = [tlist(), tset()]\n",
    "x[100] = '100'\n",
    "x[None] = 1.2\n",
    "x.m = None\n",
    "x.b = np.random.randn(3).tobytes()\n",
    "x[b'\\xaa'] = 'running'\n",
    "x"
   ]
  },
  {
   "cell_type": "code",
   "execution_count": 5,
   "metadata": {},
   "outputs": [
    {
     "data": {
      "text/plain": [
       "{'table': {'<>140002305124960': {'_type': 'humpack.basic_containers.tdict',\n",
       "   '_data': {'_pairs': {'a': 1,\n",
       "     'x': '<>140002305124960',\n",
       "     'l': '<>140003119278856',\n",
       "     '<>94722652590208': '100',\n",
       "     '<>94722652451056': 1.2,\n",
       "     'm': None,\n",
       "     'b': '<>140002646422384',\n",
       "     '<>140002305235664': 'running'},\n",
       "    '_order': ['a',\n",
       "     'x',\n",
       "     'l',\n",
       "     '<>94722652590208',\n",
       "     '<>94722652451056',\n",
       "     'm',\n",
       "     'b',\n",
       "     '<>140002305235664']}},\n",
       "  '<>140003119278856': {'_data': ['<>140002305078280', '<>140002982137312'],\n",
       "   '_type': 'list'},\n",
       "  '<>140002305078280': {'_type': 'humpack.basic_containers.tlist',\n",
       "   '_data': {'_entries': []}},\n",
       "  '<>140002982137312': {'_type': 'humpack.basic_containers.tset',\n",
       "   '_data': {'_elements': []}},\n",
       "  '<>94722652590208': {'_type': 'int', '_data': 100},\n",
       "  '<>94722652451056': {'_type': 'NoneType', '_data': None},\n",
       "  '<>140002646422384': {'_data': '¸\\x89\\x89\\x8fUÚÎ¿Ëü\\x9fùæSë?ÒA÷2ò\\x98\\x00@',\n",
       "   '_type': 'bytes'},\n",
       "  '<>140002305235664': {'_data': 'ª', '_type': 'bytes'}},\n",
       " 'meta': {},\n",
       " 'head': '<>140002305124960'}"
      ]
     },
     "execution_count": 5,
     "metadata": {},
     "output_type": "execute_result"
    }
   ],
   "source": [
    "d = pack(x)\n",
    "d"
   ]
  },
  {
   "cell_type": "code",
   "execution_count": 6,
   "metadata": {},
   "outputs": [
    {
     "data": {
      "text/plain": [
       "'{\"table\": {\"<>140002305124960\": {\"_type\": \"humpack.basic_containers.tdict\", \"_data\": {\"_pairs\": {\"a\": 1, \"x\": \"<>140002305124960\", \"l\": \"<>140003119278856\", \"<>94722652590208\": \"100\", \"<>94722652451056\": 1.2, \"m\": null, \"b\": \"<>140002646422384\", \"<>140002305235664\": \"running\"}, \"_order\": [\"a\", \"x\", \"l\", \"<>94722652590208\", \"<>94722652451056\", \"m\", \"b\", \"<>140002305235664\"]}}, \"<>140003119278856\": {\"_data\": [\"<>140002305078280\", \"<>140002982137312\"], \"_type\": \"list\"}, \"<>140002305078280\": {\"_type\": \"humpack.basic_containers.tlist\", \"_data\": {\"_entries\": []}}, \"<>140002982137312\": {\"_type\": \"humpack.basic_containers.tset\", \"_data\": {\"_elements\": []}}, \"<>94722652590208\": {\"_type\": \"int\", \"_data\": 100}, \"<>94722652451056\": {\"_type\": \"NoneType\", \"_data\": null}, \"<>140002646422384\": {\"_data\": \"\\\\u00b8\\\\u0089\\\\u0089\\\\u008fU\\\\u00da\\\\u00ce\\\\u00bf\\\\u00cb\\\\u00fc\\\\u009f\\\\u00f9\\\\u00e6S\\\\u00eb?\\\\u00d2A\\\\u00f72\\\\u00f2\\\\u0098\\\\u0000@\", \"_type\": \"bytes\"}, \"<>140002305235664\": {\"_data\": \"\\\\u00aa\", \"_type\": \"bytes\"}}, \"meta\": {}, \"head\": \"<>140002305124960\"}'"
      ]
     },
     "execution_count": 6,
     "metadata": {},
     "output_type": "execute_result"
    }
   ],
   "source": [
    "j = json.dumps(d)\n",
    "j"
   ]
  },
  {
   "cell_type": "code",
   "execution_count": 7,
   "metadata": {},
   "outputs": [
    {
     "data": {
      "text/plain": [
       "t{'a':1, 'x':{...}, 'l':[t[], t{}], 100:'100', None:1.2, 'm':None, 'b':b'\\xb8\\x89\\x89\\x8fU\\xda\\xce\\xbf\\xcb\\xfc\\x9f\\xf9\\xe6S\\xeb?\\xd2A\\xf72\\xf2\\x98\\x00@', b'\\xaa':'running'}"
      ]
     },
     "execution_count": 7,
     "metadata": {},
     "output_type": "execute_result"
    }
   ],
   "source": [
    "uj = json.loads(j)\n",
    "o = unpack(d)\n",
    "o"
   ]
  },
  {
   "cell_type": "code",
   "execution_count": 8,
   "metadata": {},
   "outputs": [
    {
     "data": {
      "text/plain": [
       "True"
      ]
     },
     "execution_count": 8,
     "metadata": {},
     "output_type": "execute_result"
    }
   ],
   "source": [
    "(np.frombuffer(x.b) - np.frombuffer(o.b)).sum() == 0"
   ]
  },
  {
   "cell_type": "code",
   "execution_count": 13,
   "metadata": {},
   "outputs": [],
   "source": [
    "from crypt import crypt, mksalt\n",
    "import getpass\n",
    "from hmac import compare_digest"
   ]
  },
  {
   "cell_type": "code",
   "execution_count": 41,
   "metadata": {},
   "outputs": [],
   "source": [
    "_master_salt = '$6$wGLrx8b5FmTPbhumpack-master-salt'"
   ]
  },
  {
   "cell_type": "code",
   "execution_count": 42,
   "metadata": {},
   "outputs": [],
   "source": [
    "ps = 'test'\n",
    "h = crypt(ps, _master_salt)"
   ]
  },
  {
   "cell_type": "code",
   "execution_count": 43,
   "metadata": {},
   "outputs": [
    {
     "data": {
      "text/plain": [
       "'$6$wGLrx8b5FmTPbhum$O/c7o6QbLy/7CHm.zOmYQ56yMHUwWp1rgEenWYy/2HRfJbs/l/8p66Ux7tmY4/.CFRnyzwGVvS32fqIVbkmjt0'"
      ]
     },
     "execution_count": 43,
     "metadata": {},
     "output_type": "execute_result"
    }
   ],
   "source": [
    "h = crypt(ps, h)\n",
    "h"
   ]
  },
  {
   "cell_type": "code",
   "execution_count": 44,
   "metadata": {},
   "outputs": [
    {
     "data": {
      "text/plain": [
       "True"
      ]
     },
     "execution_count": 44,
     "metadata": {},
     "output_type": "execute_result"
    }
   ],
   "source": [
    "compare_digest(h, crypt(ps, h))"
   ]
  },
  {
   "cell_type": "code",
   "execution_count": null,
   "metadata": {},
   "outputs": [],
   "source": []
  },
  {
   "cell_type": "code",
   "execution_count": null,
   "metadata": {},
   "outputs": [],
   "source": []
  },
  {
   "cell_type": "code",
   "execution_count": null,
   "metadata": {},
   "outputs": [],
   "source": []
  },
  {
   "cell_type": "code",
   "execution_count": null,
   "metadata": {},
   "outputs": [],
   "source": []
  },
  {
   "cell_type": "code",
   "execution_count": 23,
   "metadata": {},
   "outputs": [],
   "source": []
  },
  {
   "cell_type": "code",
   "execution_count": 26,
   "metadata": {},
   "outputs": [
    {
     "data": {
      "text/plain": [
       "(0.414313522138587+0.30008999999999997j)"
      ]
     },
     "execution_count": 26,
     "metadata": {},
     "output_type": "execute_result"
    }
   ],
   "source": [
    "z = 1.0003+3j + np.pi\n",
    "x = (z/1e18)*10003e13\n",
    "x"
   ]
  },
  {
   "cell_type": "code",
   "execution_count": 27,
   "metadata": {},
   "outputs": [
    {
     "data": {
      "text/plain": [
       "True"
      ]
     },
     "execution_count": 27,
     "metadata": {},
     "output_type": "execute_result"
    }
   ],
   "source": [
    "complex(str(x)) == x"
   ]
  },
  {
   "cell_type": "code",
   "execution_count": 2,
   "metadata": {},
   "outputs": [
    {
     "data": {
      "text/plain": [
       "'0.1'"
      ]
     },
     "execution_count": 2,
     "metadata": {},
     "output_type": "execute_result"
    }
   ],
   "source": [
    "humpack.__version__"
   ]
  },
  {
   "cell_type": "code",
   "execution_count": 3,
   "metadata": {},
   "outputs": [
    {
     "data": {
      "text/plain": [
       "(NoneType, str, float, int, bool)"
      ]
     },
     "execution_count": 3,
     "metadata": {},
     "output_type": "execute_result"
    }
   ],
   "source": [
    "P = (type(None), str, float, int, bool)\n",
    "P"
   ]
  },
  {
   "cell_type": "code",
   "execution_count": 4,
   "metadata": {},
   "outputs": [
    {
     "data": {
      "text/plain": [
       "typing.Union[NoneType, str, float, int, bool]"
      ]
     },
     "execution_count": 4,
     "metadata": {},
     "output_type": "execute_result"
    }
   ],
   "source": [
    "Union[P]"
   ]
  },
  {
   "cell_type": "code",
   "execution_count": 5,
   "metadata": {},
   "outputs": [
    {
     "data": {
      "text/plain": [
       "typing.Union[NoneType, str, int, float, bool]"
      ]
     },
     "execution_count": 5,
     "metadata": {},
     "output_type": "execute_result"
    }
   ],
   "source": [
    "humpack.PRIMITIVE"
   ]
  },
  {
   "cell_type": "code",
   "execution_count": 6,
   "metadata": {},
   "outputs": [
    {
     "data": {
      "text/plain": [
       "typing.Union[NoneType, str, float, int, bool]"
      ]
     },
     "execution_count": 6,
     "metadata": {},
     "output_type": "execute_result"
    }
   ],
   "source": [
    "Union[P]"
   ]
  },
  {
   "cell_type": "code",
   "execution_count": null,
   "metadata": {},
   "outputs": [],
   "source": []
  },
  {
   "cell_type": "code",
   "execution_count": null,
   "metadata": {},
   "outputs": [],
   "source": []
  }
 ],
 "metadata": {
  "kernelspec": {
   "display_name": "Python 3",
   "language": "python",
   "name": "python3"
  },
  "language_info": {
   "codemirror_mode": {
    "name": "ipython",
    "version": 3
   },
   "file_extension": ".py",
   "mimetype": "text/x-python",
   "name": "python",
   "nbconvert_exporter": "python",
   "pygments_lexer": "ipython3",
   "version": "3.7.4"
  }
 },
 "nbformat": 4,
 "nbformat_minor": 2
}
